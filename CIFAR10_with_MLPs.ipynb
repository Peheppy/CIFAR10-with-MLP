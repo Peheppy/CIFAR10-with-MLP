{
  "cells": [
    {
      "cell_type": "markdown",
      "metadata": {
        "id": "view-in-github",
        "colab_type": "text"
      },
      "source": [
        "<a href=\"https://colab.research.google.com/github/Peheppy/CIFAR10-with-MLP/blob/main/CIFAR10_with_MLPs.ipynb\" target=\"_parent\"><img src=\"https://colab.research.google.com/assets/colab-badge.svg\" alt=\"Open In Colab\"/></a>"
      ]
    },
    {
      "cell_type": "markdown",
      "metadata": {
        "id": "BjND-9CP7R7n"
      },
      "source": [
        "# CIFAR10 with MLPs\n"
      ]
    },
    {
      "cell_type": "markdown",
      "metadata": {
        "id": "z7zlL6tvv3dw"
      },
      "source": [
        "## Instalação e Importações"
      ]
    },
    {
      "cell_type": "code",
      "execution_count": 5,
      "metadata": {
        "id": "so1R7BqzvD5-"
      },
      "outputs": [],
      "source": [
        "%%capture\n",
        "!pip install torchinfo\n",
        "!mkdir -p logs\n",
        "\n",
        "import torch\n",
        "import torchvision\n",
        "import torch.nn as nn\n",
        "from torchvision.transforms import v2\n",
        "from torchinfo import summary\n",
        "import matplotlib.pyplot as plt\n",
        "import seaborn as sns\n",
        "import numpy as np\n",
        "import pandas as pd\n",
        "import os\n",
        "import json\n",
        "import random\n",
        "from tqdm import tqdm\n",
        "from typing import Sequence, Callable\n",
        "from sklearn.metrics import classification_report, confusion_matrix, ConfusionMatrixDisplay\n",
        "\n",
        "sns.set_style('darkgrid')"
      ]
    },
    {
      "cell_type": "markdown",
      "source": [
        "Configuração Inicial"
      ],
      "metadata": {
        "id": "M-fQi5z7WWa_"
      }
    },
    {
      "cell_type": "code",
      "execution_count": 6,
      "metadata": {
        "id": "34lY6XWevrZt",
        "colab": {
          "base_uri": "https://localhost:8080/"
        },
        "outputId": "026edb90-5a7e-40c6-b992-5900f90c1e1a"
      },
      "outputs": [
        {
          "output_type": "stream",
          "name": "stdout",
          "text": [
            "Dispositivo selecionado: cuda\n"
          ]
        }
      ],
      "source": [
        "# Configuração de dispositivo\n",
        "device = torch.device('cuda' if torch.cuda.is_available() else 'cpu')\n",
        "print(f\"Dispositivo selecionado: {device}\")\n",
        "\n",
        "# Função para setar seed\n",
        "def set_seed(seed):\n",
        "    torch.backends.cudnn.benchmark = False\n",
        "    torch.backends.cudnn.deterministic = True\n",
        "    torch.manual_seed(seed)\n",
        "    torch.cuda.manual_seed_all(seed)\n",
        "    torch.use_deterministic_algorithms(False)\n",
        "    np.random.seed(seed)\n",
        "    os.environ['PYTHONHASHSEED'] = str(seed)\n",
        "\n",
        "set_seed(42)"
      ]
    },
    {
      "cell_type": "markdown",
      "metadata": {
        "id": "LgrsEyEpvzJw"
      },
      "source": [
        "## Dataset Setup"
      ]
    },
    {
      "cell_type": "code",
      "execution_count": 7,
      "metadata": {
        "id": "5-DcUtzwwKtI"
      },
      "outputs": [],
      "source": [
        "#@markdown ## This cell defines two data preprocessing pipelines for input images.\n",
        "#@markdown ### The first pipeline includes data augmentation techniques such as random horizontal flipping, small rotations, and brightness/contrast adjustments to improve model generalization during training.\n",
        "#@markdown ### The second pipeline is for evaluation (testing) and includes only resizing, conversion to tensors, and normalization, without any random transformations.\n",
        "#@markdown ### Both pipelines ensure that the input format matches the model’s expectations.\n",
        "\n",
        "# Transformações\n",
        "transform = v2.Compose([\n",
        "    v2.RandomHorizontalFlip(),\n",
        "    v2.RandomRotation(10),\n",
        "    v2.ColorJitter(brightness=0.2, contrast=0.2),\n",
        "    v2.Resize((64,64)),\n",
        "    v2.ToImage(),\n",
        "    v2.ToDtype(torch.float32, scale=True),\n",
        "    v2.Normalize(mean=(0.491, 0.482, 0.446), std=(0.247, 0.243, 0.261)),\n",
        "])\n",
        "\n",
        "test_transform = v2.Compose([\n",
        "    v2.Resize((64, 64)),\n",
        "    v2.ToImage(),\n",
        "    v2.ToDtype(torch.float32, scale=True),\n",
        "    v2.Normalize(mean=(0.491, 0.482, 0.446), std=(0.247, 0.243, 0.261)),\n",
        "])"
      ]
    },
    {
      "cell_type": "code",
      "execution_count": 8,
      "metadata": {
        "id": "GAbjCUV_v-j1",
        "colab": {
          "base_uri": "https://localhost:8080/"
        },
        "outputId": "8f55b736-7592-440e-e40a-bbf05e9068c0"
      },
      "outputs": [
        {
          "output_type": "stream",
          "name": "stderr",
          "text": [
            "100%|██████████| 170M/170M [00:13<00:00, 12.8MB/s]\n"
          ]
        }
      ],
      "source": [
        "# Carregar datasets\n",
        "full_train_ds = torchvision.datasets.CIFAR10(\n",
        "    root=\".\", train=True, download=True, transform=transform)\n",
        "test_ds = torchvision.datasets.CIFAR10(\n",
        "    root=\".\", train=False, download=True, transform=test_transform)"
      ]
    },
    {
      "cell_type": "markdown",
      "metadata": {
        "id": "szc1tJDrwpkt"
      },
      "source": [
        "###Splitting Data\n"
      ]
    },
    {
      "cell_type": "markdown",
      "source": [
        "####Theses cells split the CIFAR-10 training set into two subsets: 85% for training and 15% for validation. A fixed random seed ensures the split is reproducible. The test set remains unchanged with 10,000 images."
      ],
      "metadata": {
        "id": "q596_D6yG5V9"
      }
    },
    {
      "cell_type": "code",
      "execution_count": 9,
      "metadata": {
        "id": "4vmTA9jywpBM"
      },
      "outputs": [],
      "source": [
        "# Split treino/validação\n",
        "prng = torch.Generator().manual_seed(42)\n",
        "length = len(full_train_ds)\n",
        "train_ds, val_ds = torch.utils.data.random_split(\n",
        "    full_train_ds, [int(0.85*length), int(0.15*length)], generator=prng)"
      ]
    },
    {
      "cell_type": "markdown",
      "metadata": {
        "id": "1KgFJgzcxmGZ"
      },
      "source": [
        "## Model definition (MLP)"
      ]
    },
    {
      "cell_type": "code",
      "execution_count": 10,
      "metadata": {
        "id": "KLjycMiT8zo-"
      },
      "outputs": [],
      "source": [
        "class MLP(nn.Module):\n",
        "    def __init__(\n",
        "            self,\n",
        "            input_size: int = 3*64*64,\n",
        "            num_classes: int = 10,\n",
        "            activation_function: Callable = nn.ReLU(),\n",
        "            layer_sizes: Sequence[int] = [256, 512, 256],\n",
        "            dropout_rate: float = 0.3\n",
        "        ):\n",
        "        super().__init__()\n",
        "\n",
        "        sizes = [input_size, *layer_sizes, num_classes]\n",
        "        layers = []\n",
        "\n",
        "        for i in range(len(sizes)-1):\n",
        "            layers.append(nn.Linear(sizes[i], sizes[i+1]))\n",
        "            if i < len(layer_sizes):\n",
        "                layers.append(nn.LayerNorm(sizes[i+1]))\n",
        "                layers.append(activation_function)\n",
        "                layers.append(nn.Dropout(dropout_rate))\n",
        "\n",
        "        self.classifier = nn.Sequential(*layers)\n",
        "        self.flatten = nn.Flatten()\n",
        "\n",
        "    def forward(self, x):\n",
        "        x_flat = self.flatten(x)\n",
        "        return self.classifier(x_flat)"
      ]
    },
    {
      "cell_type": "markdown",
      "source": [
        "# Classes Auxiliares"
      ],
      "metadata": {
        "id": "5f2B0OtvXm07"
      }
    },
    {
      "cell_type": "code",
      "source": [
        "class AverageMeter:\n",
        "    \"\"\"Computa e armazena média e valor atual\"\"\"\n",
        "    def __init__(self):\n",
        "        self.reset()\n",
        "\n",
        "    def reset(self):\n",
        "        self.avg = 0\n",
        "        self.sum = 0\n",
        "        self.count = 0\n",
        "\n",
        "    def update(self, val, n=1):\n",
        "        self.sum += val * n\n",
        "        self.count += n\n",
        "        self.avg = self.sum / self.count"
      ],
      "metadata": {
        "id": "aZ5IssqoX1fs"
      },
      "execution_count": 11,
      "outputs": []
    },
    {
      "cell_type": "code",
      "source": [
        "class EarlyStopping:\n",
        "    def __init__(self, patience=5, delta=0):\n",
        "        self.patience = patience\n",
        "        self.delta = delta\n",
        "        self.counter = 0\n",
        "        self.best_score = None\n",
        "        self.early_stop = False\n",
        "\n",
        "    def __call__(self, val_loss):\n",
        "        score = -val_loss\n",
        "        if self.best_score is None:\n",
        "            self.best_score = score\n",
        "        elif score < self.best_score + self.delta:\n",
        "            self.counter += 1\n",
        "            if self.counter >= self.patience:\n",
        "                self.early_stop = True\n",
        "        else:\n",
        "            self.best_score = score\n",
        "            self.counter = 0"
      ],
      "metadata": {
        "id": "cneHeGseX5cK"
      },
      "execution_count": 12,
      "outputs": []
    },
    {
      "cell_type": "markdown",
      "source": [
        "# Training Utilities"
      ],
      "metadata": {
        "id": "3wZT0fjyYOTX"
      }
    },
    {
      "cell_type": "code",
      "source": [
        "def train_step(model, train_dl, loss_fn, optimizer, device):\n",
        "    model.train()\n",
        "    train_loss = AverageMeter()\n",
        "    train_acc = AverageMeter()\n",
        "\n",
        "    for x, y in tqdm(train_dl, desc=\"Training\", leave=False):\n",
        "        x, y = x.to(device), y.to(device)\n",
        "        optimizer.zero_grad()\n",
        "        outputs = model(x)\n",
        "        loss = loss_fn(outputs, y)\n",
        "        loss.backward()\n",
        "        optimizer.step()\n",
        "\n",
        "        preds = outputs.argmax(dim=1)\n",
        "        acc = (preds == y).float().mean()\n",
        "        train_loss.update(loss.item(), x.size(0))\n",
        "        train_acc.update(acc.item(), x.size(0))\n",
        "\n",
        "    return train_loss.avg, train_acc.avg"
      ],
      "metadata": {
        "id": "HUP-_RcVYV8L"
      },
      "execution_count": 13,
      "outputs": []
    },
    {
      "cell_type": "code",
      "source": [
        "def eval_step(model, dl, loss_fn, device, name=\"Validation\"):\n",
        "    model.eval()\n",
        "    loss_meter = AverageMeter()\n",
        "    acc_meter = AverageMeter()\n",
        "\n",
        "    with torch.no_grad():\n",
        "        for x, y in tqdm(dl, desc=name, leave=False):\n",
        "            x, y = x.to(device), y.to(device)\n",
        "            outputs = model(x)\n",
        "            loss = loss_fn(outputs, y)\n",
        "            preds = outputs.argmax(dim=1)\n",
        "            acc = (preds == y).float().mean()\n",
        "            loss_meter.update(loss.item(), x.size(0))\n",
        "            acc_meter.update(acc.item(), x.size(0))\n",
        "\n",
        "    return loss_meter.avg, acc_meter.avg"
      ],
      "metadata": {
        "id": "0vX8lZNeYWvp"
      },
      "execution_count": 14,
      "outputs": []
    },
    {
      "cell_type": "markdown",
      "source": [
        "# Configurações dos Experimentos"
      ],
      "metadata": {
        "id": "DDtLkwBKYcnB"
      }
    },
    {
      "cell_type": "code",
      "source": [
        "base_config = {\n",
        "    \"input_size\": 3*64*64,\n",
        "    \"num_classes\": 10,\n",
        "    \"n_epochs\": 200,\n",
        "    \"bs_train\": 256,\n",
        "    \"bs_val_test\": 512,\n",
        "    \"loss_fn\": nn.CrossEntropyLoss(),\n",
        "    \"patience\": 15\n",
        "}"
      ],
      "metadata": {
        "id": "rcrVKt_GYhX9"
      },
      "execution_count": 15,
      "outputs": []
    },
    {
      "cell_type": "code",
      "source": [
        "model_configs = [\n",
        "    {\n",
        "        \"name\": \"Baseline\",\n",
        "        \"learning_rate\": 4e-3,\n",
        "        \"optimizer\": torch.optim.AdamW,\n",
        "        \"activation_fn\": nn.LeakyReLU(),\n",
        "        \"layer_sizes\": [256, 512, 256],\n",
        "        \"bs_train\": 100,\n",
        "        \"dropout_rate\": 0.3\n",
        "    },\n",
        "    {\n",
        "        \"name\": \"SmallNet\",\n",
        "        \"learning_rate\": 1e-3,\n",
        "        \"optimizer\": torch.optim.Adam,\n",
        "        \"activation_fn\": nn.ReLU(),\n",
        "        \"layer_sizes\": [128, 256, 128],\n",
        "        \"bs_train\": 200,\n",
        "        \"dropout_rate\": 0.2\n",
        "    },\n",
        "    {\n",
        "        \"name\": \"DeepNet\",\n",
        "        \"learning_rate\": 3e-4,\n",
        "        \"optimizer\": torch.optim.RMSprop,\n",
        "        \"activation_fn\": nn.LeakyReLU(),\n",
        "        \"layer_sizes\": [256, 512, 512, 256],\n",
        "        \"dropout_rate\": 0.4\n",
        "    }\n",
        "]"
      ],
      "metadata": {
        "id": "lFhxC1LkYk1Y"
      },
      "execution_count": 16,
      "outputs": []
    },
    {
      "cell_type": "code",
      "source": [
        "# Combinar com configuração base\n",
        "for config in model_configs:\n",
        "    config.update(base_config)"
      ],
      "metadata": {
        "id": "z4sN0oZHYotQ"
      },
      "execution_count": 17,
      "outputs": []
    },
    {
      "cell_type": "markdown",
      "source": [
        " # Classe de Experimentos"
      ],
      "metadata": {
        "id": "Ke7qFIfmYu5_"
      }
    },
    {
      "cell_type": "code",
      "source": [
        "class ModelExperiment:\n",
        "    def __init__(self, config):\n",
        "        self.config = config\n",
        "        self.model = MLP(\n",
        "            input_size=config[\"input_size\"],\n",
        "            num_classes=config[\"num_classes\"],\n",
        "            activation_function=config[\"activation_fn\"],\n",
        "            layer_sizes=config[\"layer_sizes\"],\n",
        "            dropout_rate=config[\"dropout_rate\"]\n",
        "        ).to(device)\n",
        "        self.history = {\n",
        "            \"train_loss\": [], \"train_acc\": [],\n",
        "            \"val_loss\": [], \"val_acc\": [],\n",
        "            \"lr\": []  # Adicionamos o histórico de learning rate\n",
        "        }\n",
        "\n",
        "    def run(self, train_dl, val_dl, test_dl=None):\n",
        "        print(f\"\\n{'='*50}\")\n",
        "        print(f\"Treinando modelo: {self.config['name']}\")\n",
        "        print(f\"Configuração: {self.config}\\n\")\n",
        "\n",
        "        optimizer = self.config[\"optimizer\"](\n",
        "            self.model.parameters(), lr=self.config[\"learning_rate\"])\n",
        "\n",
        "        scheduler = torch.optim.lr_scheduler.ReduceLROnPlateau(\n",
        "            optimizer, mode='min', patience=2)\n",
        "\n",
        "        early_stop = EarlyStopping(patience=self.config[\"patience\"])\n",
        "\n",
        "        for epoch in range(self.config[\"n_epochs\"]):\n",
        "            train_loss, train_acc = train_step(\n",
        "                self.model, train_dl, self.config[\"loss_fn\"], optimizer, device)\n",
        "            val_loss, val_acc = eval_step(\n",
        "                self.model, val_dl, self.config[\"loss_fn\"], device)\n",
        "\n",
        "            # Registrar learning rate atual\n",
        "            current_lr = optimizer.param_groups[0]['lr']\n",
        "\n",
        "            # Atualizar histórico\n",
        "            self.history[\"train_loss\"].append(train_loss)\n",
        "            self.history[\"train_acc\"].append(train_acc)\n",
        "            self.history[\"val_loss\"].append(val_loss)\n",
        "            self.history[\"val_acc\"].append(val_acc)\n",
        "            self.history[\"lr\"].append(current_lr)\n",
        "\n",
        "            # Atualizar scheduler e early stopping\n",
        "            scheduler.step(val_loss)\n",
        "            early_stop(val_loss)\n",
        "\n",
        "            print(f\"Epoch {epoch+1}/{self.config['n_epochs']} | \"\n",
        "                  f\"LR: {current_lr:.2e} | \"\n",
        "                  f\"Train Loss: {train_loss:.4f} Acc: {train_acc:.4f} | \"\n",
        "                  f\"Val Loss: {val_loss:.4f} Acc: {val_acc:.4f}\")\n",
        "\n",
        "            if early_stop.early_stop:\n",
        "                print(\"Early stopping acionado!\")\n",
        "                break\n",
        "\n",
        "        # Avaliação final\n",
        "        if test_dl:\n",
        "            test_loss, test_acc = eval_step(\n",
        "                self.model, test_dl, self.config[\"loss_fn\"], device, \"Testing\")\n",
        "            print(f\"\\nResultados Finais - Loss: {test_loss:.4f} Acc: {test_acc:.4f}\")\n",
        "            self.history[\"test_loss\"] = test_loss\n",
        "            self.history[\"test_acc\"] = test_acc\n",
        "\n",
        "        return self"
      ],
      "metadata": {
        "id": "I__D5Uz6Y3iN"
      },
      "execution_count": 18,
      "outputs": []
    },
    {
      "cell_type": "markdown",
      "source": [
        "# Execução dos Experimentos"
      ],
      "metadata": {
        "id": "sOt_RkJrY8Ky"
      }
    },
    {
      "cell_type": "code",
      "source": [
        "# Preparar DataLoaders\n",
        "train_dl = torch.utils.data.DataLoader(\n",
        "    train_ds, batch_size=base_config[\"bs_train\"], shuffle=True)\n",
        "val_dl = torch.utils.data.DataLoader(\n",
        "    val_ds, batch_size=base_config[\"bs_val_test\"], shuffle=False)\n",
        "test_dl = torch.utils.data.DataLoader(\n",
        "    test_ds, batch_size=base_config[\"bs_val_test\"], shuffle=False)\n",
        "\n",
        "# Executar experimentos\n",
        "experiments = []\n",
        "for config in model_configs:\n",
        "    experiment = ModelExperiment(config).run(train_dl, val_dl, test_dl)\n",
        "    experiments.append(experiment)"
      ],
      "metadata": {
        "colab": {
          "base_uri": "https://localhost:8080/"
        },
        "id": "FCg3YE1UY_q9",
        "outputId": "4ebf2de4-e664-4daf-9786-4be2961555a5"
      },
      "execution_count": 19,
      "outputs": [
        {
          "metadata": {
            "tags": null
          },
          "name": "stdout",
          "output_type": "stream",
          "text": [
            "\n",
            "==================================================\n",
            "Treinando modelo: Baseline\n",
            "Configuração: {'name': 'Baseline', 'learning_rate': 0.004, 'optimizer': <class 'torch.optim.adamw.AdamW'>, 'activation_fn': LeakyReLU(negative_slope=0.01), 'layer_sizes': [256, 512, 256], 'bs_train': 256, 'dropout_rate': 0.3, 'input_size': 12288, 'num_classes': 10, 'n_epochs': 200, 'bs_val_test': 512, 'loss_fn': CrossEntropyLoss(), 'patience': 15}\n",
            "\n"
          ]
        },
        {
          "metadata": {
            "tags": null
          },
          "name": "stderr",
          "output_type": "stream",
          "text": [
            ""
          ]
        },
        {
          "metadata": {
            "tags": null
          },
          "name": "stdout",
          "output_type": "stream",
          "text": [
            "Epoch 1/200 | LR: 4.00e-03 | Train Loss: 1.9322 Acc: 0.2966 | Val Loss: 1.7352 Acc: 0.3803\n"
          ]
        },
        {
          "metadata": {
            "tags": null
          },
          "name": "stderr",
          "output_type": "stream",
          "text": [
            ""
          ]
        },
        {
          "metadata": {
            "tags": null
          },
          "name": "stdout",
          "output_type": "stream",
          "text": [
            "Epoch 2/200 | LR: 4.00e-03 | Train Loss: 1.7230 Acc: 0.3805 | Val Loss: 1.6584 Acc: 0.4068\n"
          ]
        },
        {
          "metadata": {
            "tags": null
          },
          "name": "stderr",
          "output_type": "stream",
          "text": [
            ""
          ]
        },
        {
          "metadata": {
            "tags": null
          },
          "name": "stdout",
          "output_type": "stream",
          "text": [
            "Epoch 3/200 | LR: 4.00e-03 | Train Loss: 1.6429 Acc: 0.4141 | Val Loss: 1.5810 Acc: 0.4352\n"
          ]
        },
        {
          "metadata": {
            "tags": null
          },
          "name": "stderr",
          "output_type": "stream",
          "text": [
            ""
          ]
        },
        {
          "metadata": {
            "tags": null
          },
          "name": "stdout",
          "output_type": "stream",
          "text": [
            "Epoch 4/200 | LR: 4.00e-03 | Train Loss: 1.6185 Acc: 0.4225 | Val Loss: 1.5301 Acc: 0.4492\n"
          ]
        },
        {
          "metadata": {
            "tags": null
          },
          "name": "stderr",
          "output_type": "stream",
          "text": [
            ""
          ]
        },
        {
          "metadata": {
            "tags": null
          },
          "name": "stdout",
          "output_type": "stream",
          "text": [
            "Epoch 5/200 | LR: 4.00e-03 | Train Loss: 1.5585 Acc: 0.4411 | Val Loss: 1.4738 Acc: 0.4715\n"
          ]
        },
        {
          "metadata": {
            "tags": null
          },
          "name": "stderr",
          "output_type": "stream",
          "text": [
            ""
          ]
        },
        {
          "metadata": {
            "tags": null
          },
          "name": "stdout",
          "output_type": "stream",
          "text": [
            "Epoch 6/200 | LR: 4.00e-03 | Train Loss: 1.5291 Acc: 0.4499 | Val Loss: 1.4703 Acc: 0.4757\n"
          ]
        },
        {
          "metadata": {
            "tags": null
          },
          "name": "stderr",
          "output_type": "stream",
          "text": [
            ""
          ]
        },
        {
          "metadata": {
            "tags": null
          },
          "name": "stdout",
          "output_type": "stream",
          "text": [
            "Epoch 7/200 | LR: 4.00e-03 | Train Loss: 1.5082 Acc: 0.4603 | Val Loss: 1.4210 Acc: 0.4925\n"
          ]
        },
        {
          "metadata": {
            "tags": null
          },
          "name": "stderr",
          "output_type": "stream",
          "text": [
            ""
          ]
        },
        {
          "metadata": {
            "tags": null
          },
          "name": "stdout",
          "output_type": "stream",
          "text": [
            "Epoch 8/200 | LR: 4.00e-03 | Train Loss: 1.4716 Acc: 0.4742 | Val Loss: 1.4240 Acc: 0.4880\n"
          ]
        },
        {
          "metadata": {
            "tags": null
          },
          "name": "stderr",
          "output_type": "stream",
          "text": [
            ""
          ]
        },
        {
          "metadata": {
            "tags": null
          },
          "name": "stdout",
          "output_type": "stream",
          "text": [
            "Epoch 9/200 | LR: 4.00e-03 | Train Loss: 1.4676 Acc: 0.4763 | Val Loss: 1.3954 Acc: 0.5040\n"
          ]
        },
        {
          "metadata": {
            "tags": null
          },
          "name": "stderr",
          "output_type": "stream",
          "text": [
            ""
          ]
        },
        {
          "metadata": {
            "tags": null
          },
          "name": "stdout",
          "output_type": "stream",
          "text": [
            "Epoch 10/200 | LR: 4.00e-03 | Train Loss: 1.4505 Acc: 0.4820 | Val Loss: 1.3802 Acc: 0.5135\n"
          ]
        },
        {
          "metadata": {
            "tags": null
          },
          "name": "stderr",
          "output_type": "stream",
          "text": [
            ""
          ]
        },
        {
          "metadata": {
            "tags": null
          },
          "name": "stdout",
          "output_type": "stream",
          "text": [
            "Epoch 11/200 | LR: 4.00e-03 | Train Loss: 1.4588 Acc: 0.4803 | Val Loss: 1.4009 Acc: 0.5051\n"
          ]
        },
        {
          "metadata": {
            "tags": null
          },
          "name": "stderr",
          "output_type": "stream",
          "text": [
            ""
          ]
        },
        {
          "metadata": {
            "tags": null
          },
          "name": "stdout",
          "output_type": "stream",
          "text": [
            "Epoch 12/200 | LR: 4.00e-03 | Train Loss: 1.4510 Acc: 0.4842 | Val Loss: 1.3574 Acc: 0.5107\n"
          ]
        },
        {
          "metadata": {
            "tags": null
          },
          "name": "stderr",
          "output_type": "stream",
          "text": [
            ""
          ]
        },
        {
          "metadata": {
            "tags": null
          },
          "name": "stdout",
          "output_type": "stream",
          "text": [
            "Epoch 13/200 | LR: 4.00e-03 | Train Loss: 1.4094 Acc: 0.4935 | Val Loss: 1.3511 Acc: 0.5111\n"
          ]
        },
        {
          "metadata": {
            "tags": null
          },
          "name": "stderr",
          "output_type": "stream",
          "text": [
            ""
          ]
        },
        {
          "metadata": {
            "tags": null
          },
          "name": "stdout",
          "output_type": "stream",
          "text": [
            "Epoch 14/200 | LR: 4.00e-03 | Train Loss: 1.3979 Acc: 0.5004 | Val Loss: 1.3382 Acc: 0.5209\n"
          ]
        },
        {
          "metadata": {
            "tags": null
          },
          "name": "stderr",
          "output_type": "stream",
          "text": [
            ""
          ]
        },
        {
          "metadata": {
            "tags": null
          },
          "name": "stdout",
          "output_type": "stream",
          "text": [
            "Epoch 15/200 | LR: 4.00e-03 | Train Loss: 1.3964 Acc: 0.4997 | Val Loss: 1.3413 Acc: 0.5200\n"
          ]
        },
        {
          "metadata": {
            "tags": null
          },
          "name": "stderr",
          "output_type": "stream",
          "text": [
            ""
          ]
        },
        {
          "metadata": {
            "tags": null
          },
          "name": "stdout",
          "output_type": "stream",
          "text": [
            "Epoch 16/200 | LR: 4.00e-03 | Train Loss: 1.3661 Acc: 0.5138 | Val Loss: 1.3052 Acc: 0.5299\n"
          ]
        },
        {
          "metadata": {
            "tags": null
          },
          "name": "stderr",
          "output_type": "stream",
          "text": [
            ""
          ]
        },
        {
          "metadata": {
            "tags": null
          },
          "name": "stdout",
          "output_type": "stream",
          "text": [
            "Epoch 17/200 | LR: 4.00e-03 | Train Loss: 1.3678 Acc: 0.5102 | Val Loss: 1.3146 Acc: 0.5305\n"
          ]
        },
        {
          "metadata": {
            "tags": null
          },
          "name": "stderr",
          "output_type": "stream",
          "text": [
            ""
          ]
        },
        {
          "metadata": {
            "tags": null
          },
          "name": "stdout",
          "output_type": "stream",
          "text": [
            "Epoch 18/200 | LR: 4.00e-03 | Train Loss: 1.3547 Acc: 0.5177 | Val Loss: 1.3182 Acc: 0.5281\n"
          ]
        },
        {
          "metadata": {
            "tags": null
          },
          "name": "stderr",
          "output_type": "stream",
          "text": [
            ""
          ]
        },
        {
          "metadata": {
            "tags": null
          },
          "name": "stdout",
          "output_type": "stream",
          "text": [
            "Epoch 19/200 | LR: 4.00e-03 | Train Loss: 1.3457 Acc: 0.5194 | Val Loss: 1.3165 Acc: 0.5293\n"
          ]
        },
        {
          "metadata": {
            "tags": null
          },
          "name": "stderr",
          "output_type": "stream",
          "text": [
            ""
          ]
        },
        {
          "metadata": {
            "tags": null
          },
          "name": "stdout",
          "output_type": "stream",
          "text": [
            "Epoch 20/200 | LR: 4.00e-04 | Train Loss: 1.2907 Acc: 0.5382 | Val Loss: 1.2550 Acc: 0.5552\n"
          ]
        },
        {
          "metadata": {
            "tags": null
          },
          "name": "stderr",
          "output_type": "stream",
          "text": [
            ""
          ]
        },
        {
          "metadata": {
            "tags": null
          },
          "name": "stdout",
          "output_type": "stream",
          "text": [
            "Epoch 21/200 | LR: 4.00e-04 | Train Loss: 1.2707 Acc: 0.5487 | Val Loss: 1.2440 Acc: 0.5559\n"
          ]
        },
        {
          "metadata": {
            "tags": null
          },
          "name": "stderr",
          "output_type": "stream",
          "text": [
            ""
          ]
        },
        {
          "metadata": {
            "tags": null
          },
          "name": "stdout",
          "output_type": "stream",
          "text": [
            "Epoch 22/200 | LR: 4.00e-04 | Train Loss: 1.2576 Acc: 0.5535 | Val Loss: 1.2407 Acc: 0.5591\n"
          ]
        },
        {
          "metadata": {
            "tags": null
          },
          "name": "stderr",
          "output_type": "stream",
          "text": [
            ""
          ]
        },
        {
          "metadata": {
            "tags": null
          },
          "name": "stdout",
          "output_type": "stream",
          "text": [
            "Epoch 23/200 | LR: 4.00e-04 | Train Loss: 1.2528 Acc: 0.5507 | Val Loss: 1.2392 Acc: 0.5600\n"
          ]
        },
        {
          "metadata": {
            "tags": null
          },
          "name": "stderr",
          "output_type": "stream",
          "text": [
            ""
          ]
        },
        {
          "metadata": {
            "tags": null
          },
          "name": "stdout",
          "output_type": "stream",
          "text": [
            "Epoch 24/200 | LR: 4.00e-04 | Train Loss: 1.2502 Acc: 0.5551 | Val Loss: 1.2307 Acc: 0.5588\n"
          ]
        },
        {
          "metadata": {
            "tags": null
          },
          "name": "stderr",
          "output_type": "stream",
          "text": [
            ""
          ]
        },
        {
          "metadata": {
            "tags": null
          },
          "name": "stdout",
          "output_type": "stream",
          "text": [
            "Epoch 25/200 | LR: 4.00e-04 | Train Loss: 1.2377 Acc: 0.5569 | Val Loss: 1.2346 Acc: 0.5609\n"
          ]
        },
        {
          "metadata": {
            "tags": null
          },
          "name": "stderr",
          "output_type": "stream",
          "text": [
            ""
          ]
        },
        {
          "metadata": {
            "tags": null
          },
          "name": "stdout",
          "output_type": "stream",
          "text": [
            "Epoch 26/200 | LR: 4.00e-04 | Train Loss: 1.2378 Acc: 0.5592 | Val Loss: 1.2252 Acc: 0.5616\n"
          ]
        },
        {
          "metadata": {
            "tags": null
          },
          "name": "stderr",
          "output_type": "stream",
          "text": [
            ""
          ]
        },
        {
          "metadata": {
            "tags": null
          },
          "name": "stdout",
          "output_type": "stream",
          "text": [
            "Epoch 27/200 | LR: 4.00e-04 | Train Loss: 1.2307 Acc: 0.5610 | Val Loss: 1.2255 Acc: 0.5673\n"
          ]
        },
        {
          "metadata": {
            "tags": null
          },
          "name": "stderr",
          "output_type": "stream",
          "text": [
            ""
          ]
        },
        {
          "metadata": {
            "tags": null
          },
          "name": "stdout",
          "output_type": "stream",
          "text": [
            "Epoch 28/200 | LR: 4.00e-04 | Train Loss: 1.2299 Acc: 0.5610 | Val Loss: 1.2297 Acc: 0.5635\n"
          ]
        },
        {
          "metadata": {
            "tags": null
          },
          "name": "stderr",
          "output_type": "stream",
          "text": [
            ""
          ]
        },
        {
          "metadata": {
            "tags": null
          },
          "name": "stdout",
          "output_type": "stream",
          "text": [
            "Epoch 29/200 | LR: 4.00e-04 | Train Loss: 1.2313 Acc: 0.5610 | Val Loss: 1.2271 Acc: 0.5641\n"
          ]
        },
        {
          "metadata": {
            "tags": null
          },
          "name": "stderr",
          "output_type": "stream",
          "text": [
            ""
          ]
        },
        {
          "metadata": {
            "tags": null
          },
          "name": "stdout",
          "output_type": "stream",
          "text": [
            "Epoch 30/200 | LR: 4.00e-05 | Train Loss: 1.2231 Acc: 0.5624 | Val Loss: 1.2255 Acc: 0.5616\n"
          ]
        },
        {
          "metadata": {
            "tags": null
          },
          "name": "stderr",
          "output_type": "stream",
          "text": [
            ""
          ]
        },
        {
          "metadata": {
            "tags": null
          },
          "name": "stdout",
          "output_type": "stream",
          "text": [
            "Epoch 31/200 | LR: 4.00e-05 | Train Loss: 1.2169 Acc: 0.5684 | Val Loss: 1.2166 Acc: 0.5645\n"
          ]
        },
        {
          "metadata": {
            "tags": null
          },
          "name": "stderr",
          "output_type": "stream",
          "text": [
            ""
          ]
        },
        {
          "metadata": {
            "tags": null
          },
          "name": "stdout",
          "output_type": "stream",
          "text": [
            "Epoch 32/200 | LR: 4.00e-05 | Train Loss: 1.2194 Acc: 0.5654 | Val Loss: 1.2200 Acc: 0.5669\n"
          ]
        },
        {
          "metadata": {
            "tags": null
          },
          "name": "stderr",
          "output_type": "stream",
          "text": [
            ""
          ]
        },
        {
          "metadata": {
            "tags": null
          },
          "name": "stdout",
          "output_type": "stream",
          "text": [
            "Epoch 33/200 | LR: 4.00e-05 | Train Loss: 1.2164 Acc: 0.5671 | Val Loss: 1.2218 Acc: 0.5684\n"
          ]
        },
        {
          "metadata": {
            "tags": null
          },
          "name": "stderr",
          "output_type": "stream",
          "text": [
            ""
          ]
        },
        {
          "metadata": {
            "tags": null
          },
          "name": "stdout",
          "output_type": "stream",
          "text": [
            "Epoch 34/200 | LR: 4.00e-05 | Train Loss: 1.2182 Acc: 0.5652 | Val Loss: 1.2291 Acc: 0.5663\n"
          ]
        },
        {
          "metadata": {
            "tags": null
          },
          "name": "stderr",
          "output_type": "stream",
          "text": [
            ""
          ]
        },
        {
          "metadata": {
            "tags": null
          },
          "name": "stdout",
          "output_type": "stream",
          "text": [
            "Epoch 35/200 | LR: 4.00e-06 | Train Loss: 1.2169 Acc: 0.5666 | Val Loss: 1.2276 Acc: 0.5645\n"
          ]
        },
        {
          "metadata": {
            "tags": null
          },
          "name": "stderr",
          "output_type": "stream",
          "text": [
            ""
          ]
        },
        {
          "metadata": {
            "tags": null
          },
          "name": "stdout",
          "output_type": "stream",
          "text": [
            "Epoch 36/200 | LR: 4.00e-06 | Train Loss: 1.2193 Acc: 0.5660 | Val Loss: 1.2218 Acc: 0.5681\n"
          ]
        },
        {
          "metadata": {
            "tags": null
          },
          "name": "stderr",
          "output_type": "stream",
          "text": [
            ""
          ]
        },
        {
          "metadata": {
            "tags": null
          },
          "name": "stdout",
          "output_type": "stream",
          "text": [
            "Epoch 37/200 | LR: 4.00e-06 | Train Loss: 1.2152 Acc: 0.5673 | Val Loss: 1.2207 Acc: 0.5661\n"
          ]
        },
        {
          "metadata": {
            "tags": null
          },
          "name": "stderr",
          "output_type": "stream",
          "text": [
            ""
          ]
        },
        {
          "metadata": {
            "tags": null
          },
          "name": "stdout",
          "output_type": "stream",
          "text": [
            "Epoch 38/200 | LR: 4.00e-07 | Train Loss: 1.2128 Acc: 0.5691 | Val Loss: 1.2245 Acc: 0.5657\n"
          ]
        },
        {
          "metadata": {
            "tags": null
          },
          "name": "stderr",
          "output_type": "stream",
          "text": [
            ""
          ]
        },
        {
          "metadata": {
            "tags": null
          },
          "name": "stdout",
          "output_type": "stream",
          "text": [
            "Epoch 39/200 | LR: 4.00e-07 | Train Loss: 1.2166 Acc: 0.5660 | Val Loss: 1.2212 Acc: 0.5700\n"
          ]
        },
        {
          "metadata": {
            "tags": null
          },
          "name": "stderr",
          "output_type": "stream",
          "text": [
            ""
          ]
        },
        {
          "metadata": {
            "tags": null
          },
          "name": "stdout",
          "output_type": "stream",
          "text": [
            "Epoch 40/200 | LR: 4.00e-07 | Train Loss: 1.2134 Acc: 0.5656 | Val Loss: 1.2247 Acc: 0.5664\n"
          ]
        },
        {
          "metadata": {
            "tags": null
          },
          "name": "stderr",
          "output_type": "stream",
          "text": [
            ""
          ]
        },
        {
          "metadata": {
            "tags": null
          },
          "name": "stdout",
          "output_type": "stream",
          "text": [
            "Epoch 41/200 | LR: 4.00e-08 | Train Loss: 1.2131 Acc: 0.5657 | Val Loss: 1.2259 Acc: 0.5625\n"
          ]
        },
        {
          "metadata": {
            "tags": null
          },
          "name": "stderr",
          "output_type": "stream",
          "text": [
            ""
          ]
        },
        {
          "metadata": {
            "tags": null
          },
          "name": "stdout",
          "output_type": "stream",
          "text": [
            "Epoch 42/200 | LR: 4.00e-08 | Train Loss: 1.2131 Acc: 0.5654 | Val Loss: 1.2263 Acc: 0.5652\n"
          ]
        },
        {
          "metadata": {
            "tags": null
          },
          "name": "stderr",
          "output_type": "stream",
          "text": [
            ""
          ]
        },
        {
          "metadata": {
            "tags": null
          },
          "name": "stdout",
          "output_type": "stream",
          "text": [
            "Epoch 43/200 | LR: 4.00e-08 | Train Loss: 1.2139 Acc: 0.5650 | Val Loss: 1.2256 Acc: 0.5647\n"
          ]
        },
        {
          "metadata": {
            "tags": null
          },
          "name": "stderr",
          "output_type": "stream",
          "text": [
            ""
          ]
        },
        {
          "metadata": {
            "tags": null
          },
          "name": "stdout",
          "output_type": "stream",
          "text": [
            "Epoch 44/200 | LR: 4.00e-09 | Train Loss: 1.2139 Acc: 0.5685 | Val Loss: 1.2224 Acc: 0.5669\n"
          ]
        },
        {
          "metadata": {
            "tags": null
          },
          "name": "stderr",
          "output_type": "stream",
          "text": [
            ""
          ]
        },
        {
          "metadata": {
            "tags": null
          },
          "name": "stdout",
          "output_type": "stream",
          "text": [
            "Epoch 45/200 | LR: 4.00e-09 | Train Loss: 1.2137 Acc: 0.5679 | Val Loss: 1.2241 Acc: 0.5671\n"
          ]
        },
        {
          "metadata": {
            "tags": null
          },
          "name": "stderr",
          "output_type": "stream",
          "text": [
            ""
          ]
        },
        {
          "metadata": {
            "tags": null
          },
          "name": "stdout",
          "output_type": "stream",
          "text": [
            "Epoch 46/200 | LR: 4.00e-09 | Train Loss: 1.2212 Acc: 0.5642 | Val Loss: 1.2229 Acc: 0.5604\n",
            "Early stopping acionado!\n"
          ]
        },
        {
          "metadata": {
            "tags": null
          },
          "name": "stderr",
          "output_type": "stream",
          "text": [
            ""
          ]
        },
        {
          "metadata": {
            "tags": null
          },
          "name": "stdout",
          "output_type": "stream",
          "text": [
            "\n",
            "Resultados Finais - Loss: 1.2318 Acc: 0.5630\n",
            "\n",
            "==================================================\n",
            "Treinando modelo: SmallNet\n",
            "Configuração: {'name': 'SmallNet', 'learning_rate': 0.001, 'optimizer': <class 'torch.optim.adam.Adam'>, 'activation_fn': ReLU(), 'layer_sizes': [128, 256, 128], 'bs_train': 256, 'dropout_rate': 0.2, 'input_size': 12288, 'num_classes': 10, 'n_epochs': 200, 'bs_val_test': 512, 'loss_fn': CrossEntropyLoss(), 'patience': 15}\n",
            "\n"
          ]
        },
        {
          "metadata": {
            "tags": null
          },
          "name": "stderr",
          "output_type": "stream",
          "text": [
            ""
          ]
        },
        {
          "metadata": {
            "tags": null
          },
          "name": "stdout",
          "output_type": "stream",
          "text": [
            "Epoch 1/200 | LR: 1.00e-03 | Train Loss: 1.8748 Acc: 0.3266 | Val Loss: 1.6748 Acc: 0.4035\n"
          ]
        },
        {
          "metadata": {
            "tags": null
          },
          "name": "stderr",
          "output_type": "stream",
          "text": [
            ""
          ]
        },
        {
          "metadata": {
            "tags": null
          },
          "name": "stdout",
          "output_type": "stream",
          "text": [
            "Epoch 2/200 | LR: 1.00e-03 | Train Loss: 1.6958 Acc: 0.3947 | Val Loss: 1.5801 Acc: 0.4304\n"
          ]
        },
        {
          "metadata": {
            "tags": null
          },
          "name": "stderr",
          "output_type": "stream",
          "text": [
            ""
          ]
        },
        {
          "metadata": {
            "tags": null
          },
          "name": "stdout",
          "output_type": "stream",
          "text": [
            "Epoch 3/200 | LR: 1.00e-03 | Train Loss: 1.6324 Acc: 0.4196 | Val Loss: 1.5539 Acc: 0.4439\n"
          ]
        },
        {
          "metadata": {
            "tags": null
          },
          "name": "stderr",
          "output_type": "stream",
          "text": [
            ""
          ]
        },
        {
          "metadata": {
            "tags": null
          },
          "name": "stdout",
          "output_type": "stream",
          "text": [
            "Epoch 4/200 | LR: 1.00e-03 | Train Loss: 1.5883 Acc: 0.4318 | Val Loss: 1.5124 Acc: 0.4593\n"
          ]
        },
        {
          "metadata": {
            "tags": null
          },
          "name": "stderr",
          "output_type": "stream",
          "text": [
            ""
          ]
        },
        {
          "metadata": {
            "tags": null
          },
          "name": "stdout",
          "output_type": "stream",
          "text": [
            "Epoch 5/200 | LR: 1.00e-03 | Train Loss: 1.5643 Acc: 0.4439 | Val Loss: 1.4647 Acc: 0.4764\n"
          ]
        },
        {
          "metadata": {
            "tags": null
          },
          "name": "stderr",
          "output_type": "stream",
          "text": [
            ""
          ]
        },
        {
          "metadata": {
            "tags": null
          },
          "name": "stdout",
          "output_type": "stream",
          "text": [
            "Epoch 6/200 | LR: 1.00e-03 | Train Loss: 1.5241 Acc: 0.4581 | Val Loss: 1.4451 Acc: 0.4813\n"
          ]
        },
        {
          "metadata": {
            "tags": null
          },
          "name": "stderr",
          "output_type": "stream",
          "text": [
            ""
          ]
        },
        {
          "metadata": {
            "tags": null
          },
          "name": "stdout",
          "output_type": "stream",
          "text": [
            "Epoch 7/200 | LR: 1.00e-03 | Train Loss: 1.5121 Acc: 0.4603 | Val Loss: 1.4138 Acc: 0.4959\n"
          ]
        },
        {
          "metadata": {
            "tags": null
          },
          "name": "stderr",
          "output_type": "stream",
          "text": [
            ""
          ]
        },
        {
          "metadata": {
            "tags": null
          },
          "name": "stdout",
          "output_type": "stream",
          "text": [
            "Epoch 8/200 | LR: 1.00e-03 | Train Loss: 1.4781 Acc: 0.4734 | Val Loss: 1.4128 Acc: 0.4953\n"
          ]
        },
        {
          "metadata": {
            "tags": null
          },
          "name": "stderr",
          "output_type": "stream",
          "text": [
            ""
          ]
        },
        {
          "metadata": {
            "tags": null
          },
          "name": "stdout",
          "output_type": "stream",
          "text": [
            "Epoch 9/200 | LR: 1.00e-03 | Train Loss: 1.4674 Acc: 0.4752 | Val Loss: 1.4050 Acc: 0.4985\n"
          ]
        },
        {
          "metadata": {
            "tags": null
          },
          "name": "stderr",
          "output_type": "stream",
          "text": [
            ""
          ]
        },
        {
          "metadata": {
            "tags": null
          },
          "name": "stdout",
          "output_type": "stream",
          "text": [
            "Epoch 10/200 | LR: 1.00e-03 | Train Loss: 1.4621 Acc: 0.4767 | Val Loss: 1.4032 Acc: 0.4949\n"
          ]
        },
        {
          "metadata": {
            "tags": null
          },
          "name": "stderr",
          "output_type": "stream",
          "text": [
            ""
          ]
        },
        {
          "metadata": {
            "tags": null
          },
          "name": "stdout",
          "output_type": "stream",
          "text": [
            "Epoch 11/200 | LR: 1.00e-03 | Train Loss: 1.4647 Acc: 0.4756 | Val Loss: 1.4214 Acc: 0.4964\n"
          ]
        },
        {
          "metadata": {
            "tags": null
          },
          "name": "stderr",
          "output_type": "stream",
          "text": [
            ""
          ]
        },
        {
          "metadata": {
            "tags": null
          },
          "name": "stdout",
          "output_type": "stream",
          "text": [
            "Epoch 12/200 | LR: 1.00e-03 | Train Loss: 1.4609 Acc: 0.4764 | Val Loss: 1.3658 Acc: 0.5196\n"
          ]
        },
        {
          "metadata": {
            "tags": null
          },
          "name": "stderr",
          "output_type": "stream",
          "text": [
            ""
          ]
        },
        {
          "metadata": {
            "tags": null
          },
          "name": "stdout",
          "output_type": "stream",
          "text": [
            "Epoch 13/200 | LR: 1.00e-03 | Train Loss: 1.4244 Acc: 0.4916 | Val Loss: 1.3592 Acc: 0.5229\n"
          ]
        },
        {
          "metadata": {
            "tags": null
          },
          "name": "stderr",
          "output_type": "stream",
          "text": [
            ""
          ]
        },
        {
          "metadata": {
            "tags": null
          },
          "name": "stdout",
          "output_type": "stream",
          "text": [
            "Epoch 14/200 | LR: 1.00e-03 | Train Loss: 1.4081 Acc: 0.4995 | Val Loss: 1.3477 Acc: 0.5216\n"
          ]
        },
        {
          "metadata": {
            "tags": null
          },
          "name": "stderr",
          "output_type": "stream",
          "text": [
            ""
          ]
        },
        {
          "metadata": {
            "tags": null
          },
          "name": "stdout",
          "output_type": "stream",
          "text": [
            "Epoch 15/200 | LR: 1.00e-03 | Train Loss: 1.4021 Acc: 0.5015 | Val Loss: 1.3473 Acc: 0.5197\n"
          ]
        },
        {
          "metadata": {
            "tags": null
          },
          "name": "stderr",
          "output_type": "stream",
          "text": [
            ""
          ]
        },
        {
          "metadata": {
            "tags": null
          },
          "name": "stdout",
          "output_type": "stream",
          "text": [
            "Epoch 16/200 | LR: 1.00e-03 | Train Loss: 1.3884 Acc: 0.5040 | Val Loss: 1.3478 Acc: 0.5224\n"
          ]
        },
        {
          "metadata": {
            "tags": null
          },
          "name": "stderr",
          "output_type": "stream",
          "text": [
            ""
          ]
        },
        {
          "metadata": {
            "tags": null
          },
          "name": "stdout",
          "output_type": "stream",
          "text": [
            "Epoch 17/200 | LR: 1.00e-03 | Train Loss: 1.3998 Acc: 0.4998 | Val Loss: 1.3334 Acc: 0.5241\n"
          ]
        },
        {
          "metadata": {
            "tags": null
          },
          "name": "stderr",
          "output_type": "stream",
          "text": [
            ""
          ]
        },
        {
          "metadata": {
            "tags": null
          },
          "name": "stdout",
          "output_type": "stream",
          "text": [
            "Epoch 18/200 | LR: 1.00e-03 | Train Loss: 1.3708 Acc: 0.5120 | Val Loss: 1.3290 Acc: 0.5312\n"
          ]
        },
        {
          "metadata": {
            "tags": null
          },
          "name": "stderr",
          "output_type": "stream",
          "text": [
            ""
          ]
        },
        {
          "metadata": {
            "tags": null
          },
          "name": "stdout",
          "output_type": "stream",
          "text": [
            "Epoch 19/200 | LR: 1.00e-03 | Train Loss: 1.3706 Acc: 0.5106 | Val Loss: 1.3288 Acc: 0.5313\n"
          ]
        },
        {
          "metadata": {
            "tags": null
          },
          "name": "stderr",
          "output_type": "stream",
          "text": [
            ""
          ]
        },
        {
          "metadata": {
            "tags": null
          },
          "name": "stdout",
          "output_type": "stream",
          "text": [
            "Epoch 20/200 | LR: 1.00e-03 | Train Loss: 1.3609 Acc: 0.5156 | Val Loss: 1.3015 Acc: 0.5412\n"
          ]
        },
        {
          "metadata": {
            "tags": null
          },
          "name": "stderr",
          "output_type": "stream",
          "text": [
            ""
          ]
        },
        {
          "metadata": {
            "tags": null
          },
          "name": "stdout",
          "output_type": "stream",
          "text": [
            "Epoch 21/200 | LR: 1.00e-03 | Train Loss: 1.3589 Acc: 0.5140 | Val Loss: 1.3058 Acc: 0.5387\n"
          ]
        },
        {
          "metadata": {
            "tags": null
          },
          "name": "stderr",
          "output_type": "stream",
          "text": [
            ""
          ]
        },
        {
          "metadata": {
            "tags": null
          },
          "name": "stdout",
          "output_type": "stream",
          "text": [
            "Epoch 22/200 | LR: 1.00e-03 | Train Loss: 1.3551 Acc: 0.5197 | Val Loss: 1.2998 Acc: 0.5405\n"
          ]
        },
        {
          "metadata": {
            "tags": null
          },
          "name": "stderr",
          "output_type": "stream",
          "text": [
            ""
          ]
        },
        {
          "metadata": {
            "tags": null
          },
          "name": "stdout",
          "output_type": "stream",
          "text": [
            "Epoch 23/200 | LR: 1.00e-03 | Train Loss: 1.3503 Acc: 0.5185 | Val Loss: 1.3084 Acc: 0.5347\n"
          ]
        },
        {
          "metadata": {
            "tags": null
          },
          "name": "stderr",
          "output_type": "stream",
          "text": [
            ""
          ]
        },
        {
          "metadata": {
            "tags": null
          },
          "name": "stdout",
          "output_type": "stream",
          "text": [
            "Epoch 24/200 | LR: 1.00e-03 | Train Loss: 1.3432 Acc: 0.5227 | Val Loss: 1.3004 Acc: 0.5400\n"
          ]
        },
        {
          "metadata": {
            "tags": null
          },
          "name": "stderr",
          "output_type": "stream",
          "text": [
            ""
          ]
        },
        {
          "metadata": {
            "tags": null
          },
          "name": "stdout",
          "output_type": "stream",
          "text": [
            "Epoch 25/200 | LR: 1.00e-03 | Train Loss: 1.3343 Acc: 0.5264 | Val Loss: 1.2816 Acc: 0.5435\n"
          ]
        },
        {
          "metadata": {
            "tags": null
          },
          "name": "stderr",
          "output_type": "stream",
          "text": [
            ""
          ]
        },
        {
          "metadata": {
            "tags": null
          },
          "name": "stdout",
          "output_type": "stream",
          "text": [
            "Epoch 26/200 | LR: 1.00e-03 | Train Loss: 1.3294 Acc: 0.5245 | Val Loss: 1.2809 Acc: 0.5472\n"
          ]
        },
        {
          "metadata": {
            "tags": null
          },
          "name": "stderr",
          "output_type": "stream",
          "text": [
            ""
          ]
        },
        {
          "metadata": {
            "tags": null
          },
          "name": "stdout",
          "output_type": "stream",
          "text": [
            "Epoch 27/200 | LR: 1.00e-03 | Train Loss: 1.3252 Acc: 0.5294 | Val Loss: 1.2760 Acc: 0.5493\n"
          ]
        },
        {
          "metadata": {
            "tags": null
          },
          "name": "stderr",
          "output_type": "stream",
          "text": [
            ""
          ]
        },
        {
          "metadata": {
            "tags": null
          },
          "name": "stdout",
          "output_type": "stream",
          "text": [
            "Epoch 28/200 | LR: 1.00e-03 | Train Loss: 1.3148 Acc: 0.5326 | Val Loss: 1.2690 Acc: 0.5575\n"
          ]
        },
        {
          "metadata": {
            "tags": null
          },
          "name": "stderr",
          "output_type": "stream",
          "text": [
            ""
          ]
        },
        {
          "metadata": {
            "tags": null
          },
          "name": "stdout",
          "output_type": "stream",
          "text": [
            "Epoch 29/200 | LR: 1.00e-03 | Train Loss: 1.3191 Acc: 0.5316 | Val Loss: 1.2739 Acc: 0.5512\n"
          ]
        },
        {
          "metadata": {
            "tags": null
          },
          "name": "stderr",
          "output_type": "stream",
          "text": [
            ""
          ]
        },
        {
          "metadata": {
            "tags": null
          },
          "name": "stdout",
          "output_type": "stream",
          "text": [
            "Epoch 30/200 | LR: 1.00e-03 | Train Loss: 1.3188 Acc: 0.5297 | Val Loss: 1.2775 Acc: 0.5495\n"
          ]
        },
        {
          "metadata": {
            "tags": null
          },
          "name": "stderr",
          "output_type": "stream",
          "text": [
            ""
          ]
        },
        {
          "metadata": {
            "tags": null
          },
          "name": "stdout",
          "output_type": "stream",
          "text": [
            "Epoch 31/200 | LR: 1.00e-03 | Train Loss: 1.3055 Acc: 0.5363 | Val Loss: 1.2868 Acc: 0.5401\n"
          ]
        },
        {
          "metadata": {
            "tags": null
          },
          "name": "stderr",
          "output_type": "stream",
          "text": [
            ""
          ]
        },
        {
          "metadata": {
            "tags": null
          },
          "name": "stdout",
          "output_type": "stream",
          "text": [
            "Epoch 32/200 | LR: 1.00e-04 | Train Loss: 1.2717 Acc: 0.5484 | Val Loss: 1.2437 Acc: 0.5603\n"
          ]
        },
        {
          "metadata": {
            "tags": null
          },
          "name": "stderr",
          "output_type": "stream",
          "text": [
            ""
          ]
        },
        {
          "metadata": {
            "tags": null
          },
          "name": "stdout",
          "output_type": "stream",
          "text": [
            "Epoch 33/200 | LR: 1.00e-04 | Train Loss: 1.2565 Acc: 0.5498 | Val Loss: 1.2420 Acc: 0.5599\n"
          ]
        },
        {
          "metadata": {
            "tags": null
          },
          "name": "stderr",
          "output_type": "stream",
          "text": [
            ""
          ]
        },
        {
          "metadata": {
            "tags": null
          },
          "name": "stdout",
          "output_type": "stream",
          "text": [
            "Epoch 34/200 | LR: 1.00e-04 | Train Loss: 1.2515 Acc: 0.5551 | Val Loss: 1.2412 Acc: 0.5615\n"
          ]
        },
        {
          "metadata": {
            "tags": null
          },
          "name": "stderr",
          "output_type": "stream",
          "text": [
            ""
          ]
        },
        {
          "metadata": {
            "tags": null
          },
          "name": "stdout",
          "output_type": "stream",
          "text": [
            "Epoch 35/200 | LR: 1.00e-04 | Train Loss: 1.2473 Acc: 0.5582 | Val Loss: 1.2359 Acc: 0.5640\n"
          ]
        },
        {
          "metadata": {
            "tags": null
          },
          "name": "stderr",
          "output_type": "stream",
          "text": [
            ""
          ]
        },
        {
          "metadata": {
            "tags": null
          },
          "name": "stdout",
          "output_type": "stream",
          "text": [
            "Epoch 36/200 | LR: 1.00e-04 | Train Loss: 1.2392 Acc: 0.5586 | Val Loss: 1.2363 Acc: 0.5616\n"
          ]
        },
        {
          "metadata": {
            "tags": null
          },
          "name": "stderr",
          "output_type": "stream",
          "text": [
            ""
          ]
        },
        {
          "metadata": {
            "tags": null
          },
          "name": "stdout",
          "output_type": "stream",
          "text": [
            "Epoch 37/200 | LR: 1.00e-04 | Train Loss: 1.2380 Acc: 0.5603 | Val Loss: 1.2307 Acc: 0.5688\n"
          ]
        },
        {
          "metadata": {
            "tags": null
          },
          "name": "stderr",
          "output_type": "stream",
          "text": [
            ""
          ]
        },
        {
          "metadata": {
            "tags": null
          },
          "name": "stdout",
          "output_type": "stream",
          "text": [
            "Epoch 38/200 | LR: 1.00e-04 | Train Loss: 1.2377 Acc: 0.5604 | Val Loss: 1.2345 Acc: 0.5616\n"
          ]
        },
        {
          "metadata": {
            "tags": null
          },
          "name": "stderr",
          "output_type": "stream",
          "text": [
            ""
          ]
        },
        {
          "metadata": {
            "tags": null
          },
          "name": "stdout",
          "output_type": "stream",
          "text": [
            "Epoch 39/200 | LR: 1.00e-04 | Train Loss: 1.2362 Acc: 0.5629 | Val Loss: 1.2324 Acc: 0.5700\n"
          ]
        },
        {
          "metadata": {
            "tags": null
          },
          "name": "stderr",
          "output_type": "stream",
          "text": [
            ""
          ]
        },
        {
          "metadata": {
            "tags": null
          },
          "name": "stdout",
          "output_type": "stream",
          "text": [
            "Epoch 40/200 | LR: 1.00e-04 | Train Loss: 1.2304 Acc: 0.5628 | Val Loss: 1.2239 Acc: 0.5708\n"
          ]
        },
        {
          "metadata": {
            "tags": null
          },
          "name": "stderr",
          "output_type": "stream",
          "text": [
            ""
          ]
        },
        {
          "metadata": {
            "tags": null
          },
          "name": "stdout",
          "output_type": "stream",
          "text": [
            "Epoch 41/200 | LR: 1.00e-04 | Train Loss: 1.2360 Acc: 0.5615 | Val Loss: 1.2260 Acc: 0.5680\n"
          ]
        },
        {
          "metadata": {
            "tags": null
          },
          "name": "stderr",
          "output_type": "stream",
          "text": [
            ""
          ]
        },
        {
          "metadata": {
            "tags": null
          },
          "name": "stdout",
          "output_type": "stream",
          "text": [
            "Epoch 42/200 | LR: 1.00e-04 | Train Loss: 1.2326 Acc: 0.5595 | Val Loss: 1.2345 Acc: 0.5656\n"
          ]
        },
        {
          "metadata": {
            "tags": null
          },
          "name": "stderr",
          "output_type": "stream",
          "text": [
            ""
          ]
        },
        {
          "metadata": {
            "tags": null
          },
          "name": "stdout",
          "output_type": "stream",
          "text": [
            "Epoch 43/200 | LR: 1.00e-04 | Train Loss: 1.2271 Acc: 0.5641 | Val Loss: 1.2278 Acc: 0.5680\n"
          ]
        },
        {
          "metadata": {
            "tags": null
          },
          "name": "stderr",
          "output_type": "stream",
          "text": [
            ""
          ]
        },
        {
          "metadata": {
            "tags": null
          },
          "name": "stdout",
          "output_type": "stream",
          "text": [
            "Epoch 44/200 | LR: 1.00e-05 | Train Loss: 1.2277 Acc: 0.5619 | Val Loss: 1.2185 Acc: 0.5659\n"
          ]
        },
        {
          "metadata": {
            "tags": null
          },
          "name": "stderr",
          "output_type": "stream",
          "text": [
            ""
          ]
        },
        {
          "metadata": {
            "tags": null
          },
          "name": "stdout",
          "output_type": "stream",
          "text": [
            "Epoch 45/200 | LR: 1.00e-05 | Train Loss: 1.2271 Acc: 0.5661 | Val Loss: 1.2287 Acc: 0.5669\n"
          ]
        },
        {
          "metadata": {
            "tags": null
          },
          "name": "stderr",
          "output_type": "stream",
          "text": [
            ""
          ]
        },
        {
          "metadata": {
            "tags": null
          },
          "name": "stdout",
          "output_type": "stream",
          "text": [
            "Epoch 46/200 | LR: 1.00e-05 | Train Loss: 1.2291 Acc: 0.5631 | Val Loss: 1.2279 Acc: 0.5699\n"
          ]
        },
        {
          "metadata": {
            "tags": null
          },
          "name": "stderr",
          "output_type": "stream",
          "text": [
            ""
          ]
        },
        {
          "metadata": {
            "tags": null
          },
          "name": "stdout",
          "output_type": "stream",
          "text": [
            "Epoch 47/200 | LR: 1.00e-05 | Train Loss: 1.2216 Acc: 0.5662 | Val Loss: 1.2210 Acc: 0.5701\n"
          ]
        },
        {
          "metadata": {
            "tags": null
          },
          "name": "stderr",
          "output_type": "stream",
          "text": [
            ""
          ]
        },
        {
          "metadata": {
            "tags": null
          },
          "name": "stdout",
          "output_type": "stream",
          "text": [
            "Epoch 48/200 | LR: 1.00e-06 | Train Loss: 1.2205 Acc: 0.5672 | Val Loss: 1.2261 Acc: 0.5672\n"
          ]
        },
        {
          "metadata": {
            "tags": null
          },
          "name": "stderr",
          "output_type": "stream",
          "text": [
            ""
          ]
        },
        {
          "metadata": {
            "tags": null
          },
          "name": "stdout",
          "output_type": "stream",
          "text": [
            "Epoch 49/200 | LR: 1.00e-06 | Train Loss: 1.2239 Acc: 0.5649 | Val Loss: 1.2282 Acc: 0.5677\n"
          ]
        },
        {
          "metadata": {
            "tags": null
          },
          "name": "stderr",
          "output_type": "stream",
          "text": [
            ""
          ]
        },
        {
          "metadata": {
            "tags": null
          },
          "name": "stdout",
          "output_type": "stream",
          "text": [
            "Epoch 50/200 | LR: 1.00e-06 | Train Loss: 1.2261 Acc: 0.5637 | Val Loss: 1.2230 Acc: 0.5755\n"
          ]
        },
        {
          "metadata": {
            "tags": null
          },
          "name": "stderr",
          "output_type": "stream",
          "text": [
            ""
          ]
        },
        {
          "metadata": {
            "tags": null
          },
          "name": "stdout",
          "output_type": "stream",
          "text": [
            "Epoch 51/200 | LR: 1.00e-07 | Train Loss: 1.2254 Acc: 0.5650 | Val Loss: 1.2181 Acc: 0.5723\n"
          ]
        },
        {
          "metadata": {
            "tags": null
          },
          "name": "stderr",
          "output_type": "stream",
          "text": [
            ""
          ]
        },
        {
          "metadata": {
            "tags": null
          },
          "name": "stdout",
          "output_type": "stream",
          "text": [
            "Epoch 52/200 | LR: 1.00e-07 | Train Loss: 1.2234 Acc: 0.5629 | Val Loss: 1.2280 Acc: 0.5696\n"
          ]
        },
        {
          "metadata": {
            "tags": null
          },
          "name": "stderr",
          "output_type": "stream",
          "text": [
            ""
          ]
        },
        {
          "metadata": {
            "tags": null
          },
          "name": "stdout",
          "output_type": "stream",
          "text": [
            "Epoch 53/200 | LR: 1.00e-07 | Train Loss: 1.2262 Acc: 0.5644 | Val Loss: 1.2296 Acc: 0.5659\n"
          ]
        },
        {
          "metadata": {
            "tags": null
          },
          "name": "stderr",
          "output_type": "stream",
          "text": [
            ""
          ]
        },
        {
          "metadata": {
            "tags": null
          },
          "name": "stdout",
          "output_type": "stream",
          "text": [
            "Epoch 54/200 | LR: 1.00e-07 | Train Loss: 1.2291 Acc: 0.5611 | Val Loss: 1.2230 Acc: 0.5716\n"
          ]
        },
        {
          "metadata": {
            "tags": null
          },
          "name": "stderr",
          "output_type": "stream",
          "text": [
            ""
          ]
        },
        {
          "metadata": {
            "tags": null
          },
          "name": "stdout",
          "output_type": "stream",
          "text": [
            "Epoch 55/200 | LR: 1.00e-08 | Train Loss: 1.2279 Acc: 0.5646 | Val Loss: 1.2275 Acc: 0.5689\n"
          ]
        },
        {
          "output_type": "stream",
          "name": "stderr",
          "text": []
        },
        {
          "output_type": "stream",
          "name": "stdout",
          "text": [
            "Epoch 56/200 | LR: 1.00e-08 | Train Loss: 1.2249 Acc: 0.5642 | Val Loss: 1.2226 Acc: 0.5700\n"
          ]
        },
        {
          "output_type": "stream",
          "name": "stderr",
          "text": []
        },
        {
          "output_type": "stream",
          "name": "stdout",
          "text": [
            "Epoch 57/200 | LR: 1.00e-08 | Train Loss: 1.2253 Acc: 0.5647 | Val Loss: 1.2263 Acc: 0.5688\n"
          ]
        },
        {
          "output_type": "stream",
          "name": "stderr",
          "text": []
        },
        {
          "output_type": "stream",
          "name": "stdout",
          "text": [
            "Epoch 58/200 | LR: 1.00e-08 | Train Loss: 1.2247 Acc: 0.5669 | Val Loss: 1.2201 Acc: 0.5688\n"
          ]
        },
        {
          "output_type": "stream",
          "name": "stderr",
          "text": []
        },
        {
          "output_type": "stream",
          "name": "stdout",
          "text": [
            "Epoch 59/200 | LR: 1.00e-08 | Train Loss: 1.2245 Acc: 0.5647 | Val Loss: 1.2328 Acc: 0.5679\n"
          ]
        },
        {
          "output_type": "stream",
          "name": "stderr",
          "text": []
        },
        {
          "output_type": "stream",
          "name": "stdout",
          "text": [
            "Epoch 60/200 | LR: 1.00e-08 | Train Loss: 1.2182 Acc: 0.5669 | Val Loss: 1.2270 Acc: 0.5727\n"
          ]
        },
        {
          "output_type": "stream",
          "name": "stderr",
          "text": []
        },
        {
          "output_type": "stream",
          "name": "stdout",
          "text": [
            "Epoch 61/200 | LR: 1.00e-08 | Train Loss: 1.2213 Acc: 0.5652 | Val Loss: 1.2252 Acc: 0.5705\n"
          ]
        },
        {
          "output_type": "stream",
          "name": "stderr",
          "text": []
        },
        {
          "output_type": "stream",
          "name": "stdout",
          "text": [
            "Epoch 62/200 | LR: 1.00e-08 | Train Loss: 1.2229 Acc: 0.5632 | Val Loss: 1.2176 Acc: 0.5695\n"
          ]
        },
        {
          "output_type": "stream",
          "name": "stderr",
          "text": []
        },
        {
          "output_type": "stream",
          "name": "stdout",
          "text": [
            "Epoch 63/200 | LR: 1.00e-08 | Train Loss: 1.2229 Acc: 0.5663 | Val Loss: 1.2257 Acc: 0.5689\n"
          ]
        },
        {
          "output_type": "stream",
          "name": "stderr",
          "text": []
        },
        {
          "output_type": "stream",
          "name": "stdout",
          "text": [
            "Epoch 64/200 | LR: 1.00e-08 | Train Loss: 1.2211 Acc: 0.5639 | Val Loss: 1.2222 Acc: 0.5687\n"
          ]
        },
        {
          "output_type": "stream",
          "name": "stderr",
          "text": []
        },
        {
          "output_type": "stream",
          "name": "stdout",
          "text": [
            "Epoch 65/200 | LR: 1.00e-08 | Train Loss: 1.2234 Acc: 0.5663 | Val Loss: 1.2272 Acc: 0.5700\n"
          ]
        },
        {
          "output_type": "stream",
          "name": "stderr",
          "text": []
        },
        {
          "output_type": "stream",
          "name": "stdout",
          "text": [
            "Epoch 66/200 | LR: 1.00e-08 | Train Loss: 1.2217 Acc: 0.5668 | Val Loss: 1.2215 Acc: 0.5699\n"
          ]
        },
        {
          "output_type": "stream",
          "name": "stderr",
          "text": []
        },
        {
          "output_type": "stream",
          "name": "stdout",
          "text": [
            "Epoch 67/200 | LR: 1.00e-08 | Train Loss: 1.2267 Acc: 0.5627 | Val Loss: 1.2278 Acc: 0.5681\n"
          ]
        },
        {
          "output_type": "stream",
          "name": "stderr",
          "text": []
        },
        {
          "output_type": "stream",
          "name": "stdout",
          "text": [
            "Epoch 68/200 | LR: 1.00e-08 | Train Loss: 1.2182 Acc: 0.5677 | Val Loss: 1.2240 Acc: 0.5716\n"
          ]
        },
        {
          "output_type": "stream",
          "name": "stderr",
          "text": []
        },
        {
          "output_type": "stream",
          "name": "stdout",
          "text": [
            "Epoch 69/200 | LR: 1.00e-08 | Train Loss: 1.2200 Acc: 0.5647 | Val Loss: 1.2251 Acc: 0.5725\n"
          ]
        },
        {
          "output_type": "stream",
          "name": "stderr",
          "text": []
        },
        {
          "output_type": "stream",
          "name": "stdout",
          "text": [
            "Epoch 70/200 | LR: 1.00e-08 | Train Loss: 1.2210 Acc: 0.5647 | Val Loss: 1.2212 Acc: 0.5691\n"
          ]
        },
        {
          "output_type": "stream",
          "name": "stderr",
          "text": []
        },
        {
          "output_type": "stream",
          "name": "stdout",
          "text": [
            "Epoch 71/200 | LR: 1.00e-08 | Train Loss: 1.2264 Acc: 0.5673 | Val Loss: 1.2260 Acc: 0.5635\n"
          ]
        },
        {
          "output_type": "stream",
          "name": "stderr",
          "text": []
        },
        {
          "output_type": "stream",
          "name": "stdout",
          "text": [
            "Epoch 72/200 | LR: 1.00e-08 | Train Loss: 1.2215 Acc: 0.5649 | Val Loss: 1.2201 Acc: 0.5659\n"
          ]
        },
        {
          "output_type": "stream",
          "name": "stderr",
          "text": []
        },
        {
          "output_type": "stream",
          "name": "stdout",
          "text": [
            "Epoch 73/200 | LR: 1.00e-08 | Train Loss: 1.2252 Acc: 0.5653 | Val Loss: 1.2228 Acc: 0.5707\n"
          ]
        },
        {
          "output_type": "stream",
          "name": "stderr",
          "text": []
        },
        {
          "output_type": "stream",
          "name": "stdout",
          "text": [
            "Epoch 74/200 | LR: 1.00e-08 | Train Loss: 1.2244 Acc: 0.5620 | Val Loss: 1.2277 Acc: 0.5664\n"
          ]
        },
        {
          "output_type": "stream",
          "name": "stderr",
          "text": []
        },
        {
          "output_type": "stream",
          "name": "stdout",
          "text": [
            "Epoch 75/200 | LR: 1.00e-08 | Train Loss: 1.2256 Acc: 0.5641 | Val Loss: 1.2255 Acc: 0.5659\n"
          ]
        },
        {
          "output_type": "stream",
          "name": "stderr",
          "text": []
        },
        {
          "output_type": "stream",
          "name": "stdout",
          "text": [
            "Epoch 76/200 | LR: 1.00e-08 | Train Loss: 1.2255 Acc: 0.5637 | Val Loss: 1.2269 Acc: 0.5688\n"
          ]
        },
        {
          "output_type": "stream",
          "name": "stderr",
          "text": []
        },
        {
          "output_type": "stream",
          "name": "stdout",
          "text": [
            "Epoch 77/200 | LR: 1.00e-08 | Train Loss: 1.2242 Acc: 0.5634 | Val Loss: 1.2274 Acc: 0.5664\n",
            "Early stopping acionado!\n"
          ]
        },
        {
          "output_type": "stream",
          "name": "stderr",
          "text": []
        },
        {
          "output_type": "stream",
          "name": "stdout",
          "text": [
            "\n",
            "Resultados Finais - Loss: 1.2346 Acc: 0.5616\n",
            "\n",
            "==================================================\n",
            "Treinando modelo: DeepNet\n",
            "Configuração: {'name': 'DeepNet', 'learning_rate': 0.0003, 'optimizer': <class 'torch.optim.rmsprop.RMSprop'>, 'activation_fn': LeakyReLU(negative_slope=0.01), 'layer_sizes': [256, 512, 512, 256], 'dropout_rate': 0.4, 'input_size': 12288, 'num_classes': 10, 'n_epochs': 200, 'bs_train': 256, 'bs_val_test': 512, 'loss_fn': CrossEntropyLoss(), 'patience': 15}\n",
            "\n"
          ]
        },
        {
          "output_type": "stream",
          "name": "stderr",
          "text": []
        },
        {
          "output_type": "stream",
          "name": "stdout",
          "text": [
            "Epoch 1/200 | LR: 3.00e-04 | Train Loss: 1.9410 Acc: 0.2917 | Val Loss: 1.9130 Acc: 0.3227\n"
          ]
        },
        {
          "output_type": "stream",
          "name": "stderr",
          "text": []
        },
        {
          "output_type": "stream",
          "name": "stdout",
          "text": [
            "Epoch 2/200 | LR: 3.00e-04 | Train Loss: 1.7752 Acc: 0.3649 | Val Loss: 1.7594 Acc: 0.3759\n"
          ]
        },
        {
          "output_type": "stream",
          "name": "stderr",
          "text": []
        },
        {
          "output_type": "stream",
          "name": "stdout",
          "text": [
            "Epoch 3/200 | LR: 3.00e-04 | Train Loss: 1.7149 Acc: 0.3878 | Val Loss: 1.8345 Acc: 0.3527\n"
          ]
        },
        {
          "output_type": "stream",
          "name": "stderr",
          "text": []
        },
        {
          "output_type": "stream",
          "name": "stdout",
          "text": [
            "Epoch 4/200 | LR: 3.00e-04 | Train Loss: 1.6703 Acc: 0.4070 | Val Loss: 1.6620 Acc: 0.4064\n"
          ]
        },
        {
          "output_type": "stream",
          "name": "stderr",
          "text": []
        },
        {
          "output_type": "stream",
          "name": "stdout",
          "text": [
            "Epoch 5/200 | LR: 3.00e-04 | Train Loss: 1.6387 Acc: 0.4173 | Val Loss: 1.6983 Acc: 0.4165\n"
          ]
        },
        {
          "output_type": "stream",
          "name": "stderr",
          "text": []
        },
        {
          "output_type": "stream",
          "name": "stdout",
          "text": [
            "Epoch 6/200 | LR: 3.00e-04 | Train Loss: 1.6105 Acc: 0.4289 | Val Loss: 1.7191 Acc: 0.4000\n"
          ]
        },
        {
          "output_type": "stream",
          "name": "stderr",
          "text": []
        },
        {
          "output_type": "stream",
          "name": "stdout",
          "text": [
            "Epoch 7/200 | LR: 3.00e-04 | Train Loss: 1.5935 Acc: 0.4310 | Val Loss: 1.6709 Acc: 0.4245\n"
          ]
        },
        {
          "output_type": "stream",
          "name": "stderr",
          "text": []
        },
        {
          "output_type": "stream",
          "name": "stdout",
          "text": [
            "Epoch 8/200 | LR: 3.00e-05 | Train Loss: 1.5856 Acc: 0.4362 | Val Loss: 1.4628 Acc: 0.4783\n"
          ]
        },
        {
          "output_type": "stream",
          "name": "stderr",
          "text": []
        },
        {
          "output_type": "stream",
          "name": "stdout",
          "text": [
            "Epoch 9/200 | LR: 3.00e-05 | Train Loss: 1.5462 Acc: 0.4508 | Val Loss: 1.4541 Acc: 0.4800\n"
          ]
        },
        {
          "output_type": "stream",
          "name": "stderr",
          "text": []
        },
        {
          "output_type": "stream",
          "name": "stdout",
          "text": [
            "Epoch 10/200 | LR: 3.00e-05 | Train Loss: 1.5367 Acc: 0.4557 | Val Loss: 1.4412 Acc: 0.4905\n"
          ]
        },
        {
          "output_type": "stream",
          "name": "stderr",
          "text": []
        },
        {
          "output_type": "stream",
          "name": "stdout",
          "text": [
            "Epoch 11/200 | LR: 3.00e-05 | Train Loss: 1.5308 Acc: 0.4554 | Val Loss: 1.4422 Acc: 0.4871\n"
          ]
        },
        {
          "output_type": "stream",
          "name": "stderr",
          "text": []
        },
        {
          "output_type": "stream",
          "name": "stdout",
          "text": [
            "Epoch 12/200 | LR: 3.00e-05 | Train Loss: 1.5298 Acc: 0.4572 | Val Loss: 1.4373 Acc: 0.4863\n"
          ]
        },
        {
          "output_type": "stream",
          "name": "stderr",
          "text": []
        },
        {
          "output_type": "stream",
          "name": "stdout",
          "text": [
            "Epoch 13/200 | LR: 3.00e-05 | Train Loss: 1.5233 Acc: 0.4605 | Val Loss: 1.4258 Acc: 0.4929\n"
          ]
        },
        {
          "output_type": "stream",
          "name": "stderr",
          "text": []
        },
        {
          "output_type": "stream",
          "name": "stdout",
          "text": [
            "Epoch 14/200 | LR: 3.00e-05 | Train Loss: 1.5228 Acc: 0.4602 | Val Loss: 1.4310 Acc: 0.4936\n"
          ]
        },
        {
          "output_type": "stream",
          "name": "stderr",
          "text": []
        },
        {
          "output_type": "stream",
          "name": "stdout",
          "text": [
            "Epoch 15/200 | LR: 3.00e-05 | Train Loss: 1.5119 Acc: 0.4613 | Val Loss: 1.4285 Acc: 0.4907\n"
          ]
        },
        {
          "output_type": "stream",
          "name": "stderr",
          "text": []
        },
        {
          "output_type": "stream",
          "name": "stdout",
          "text": [
            "Epoch 16/200 | LR: 3.00e-05 | Train Loss: 1.5116 Acc: 0.4625 | Val Loss: 1.4224 Acc: 0.4967\n"
          ]
        },
        {
          "output_type": "stream",
          "name": "stderr",
          "text": []
        },
        {
          "output_type": "stream",
          "name": "stdout",
          "text": [
            "Epoch 17/200 | LR: 3.00e-05 | Train Loss: 1.5079 Acc: 0.4653 | Val Loss: 1.4192 Acc: 0.4975\n"
          ]
        },
        {
          "output_type": "stream",
          "name": "stderr",
          "text": []
        },
        {
          "output_type": "stream",
          "name": "stdout",
          "text": [
            "Epoch 18/200 | LR: 3.00e-05 | Train Loss: 1.5053 Acc: 0.4662 | Val Loss: 1.4122 Acc: 0.5012\n"
          ]
        },
        {
          "output_type": "stream",
          "name": "stderr",
          "text": []
        },
        {
          "output_type": "stream",
          "name": "stdout",
          "text": [
            "Epoch 19/200 | LR: 3.00e-05 | Train Loss: 1.5016 Acc: 0.4671 | Val Loss: 1.4140 Acc: 0.4999\n"
          ]
        },
        {
          "output_type": "stream",
          "name": "stderr",
          "text": []
        },
        {
          "output_type": "stream",
          "name": "stdout",
          "text": [
            "Epoch 20/200 | LR: 3.00e-05 | Train Loss: 1.5009 Acc: 0.4667 | Val Loss: 1.4093 Acc: 0.4949\n"
          ]
        },
        {
          "output_type": "stream",
          "name": "stderr",
          "text": []
        },
        {
          "output_type": "stream",
          "name": "stdout",
          "text": [
            "Epoch 21/200 | LR: 3.00e-05 | Train Loss: 1.4963 Acc: 0.4687 | Val Loss: 1.4075 Acc: 0.5019\n"
          ]
        },
        {
          "output_type": "stream",
          "name": "stderr",
          "text": []
        },
        {
          "output_type": "stream",
          "name": "stdout",
          "text": [
            "Epoch 22/200 | LR: 3.00e-05 | Train Loss: 1.4967 Acc: 0.4669 | Val Loss: 1.4023 Acc: 0.4976\n"
          ]
        },
        {
          "output_type": "stream",
          "name": "stderr",
          "text": []
        },
        {
          "output_type": "stream",
          "name": "stdout",
          "text": [
            "Epoch 23/200 | LR: 3.00e-05 | Train Loss: 1.4957 Acc: 0.4706 | Val Loss: 1.4067 Acc: 0.4977\n"
          ]
        },
        {
          "output_type": "stream",
          "name": "stderr",
          "text": []
        },
        {
          "output_type": "stream",
          "name": "stdout",
          "text": [
            "Epoch 24/200 | LR: 3.00e-05 | Train Loss: 1.4904 Acc: 0.4708 | Val Loss: 1.4069 Acc: 0.5013\n"
          ]
        },
        {
          "output_type": "stream",
          "name": "stderr",
          "text": []
        },
        {
          "output_type": "stream",
          "name": "stdout",
          "text": [
            "Epoch 25/200 | LR: 3.00e-05 | Train Loss: 1.4870 Acc: 0.4713 | Val Loss: 1.3927 Acc: 0.5045\n"
          ]
        },
        {
          "output_type": "stream",
          "name": "stderr",
          "text": []
        },
        {
          "output_type": "stream",
          "name": "stdout",
          "text": [
            "Epoch 26/200 | LR: 3.00e-05 | Train Loss: 1.4844 Acc: 0.4740 | Val Loss: 1.3945 Acc: 0.5032\n"
          ]
        },
        {
          "output_type": "stream",
          "name": "stderr",
          "text": []
        },
        {
          "output_type": "stream",
          "name": "stdout",
          "text": [
            "Epoch 27/200 | LR: 3.00e-05 | Train Loss: 1.4831 Acc: 0.4749 | Val Loss: 1.3929 Acc: 0.5081\n"
          ]
        },
        {
          "output_type": "stream",
          "name": "stderr",
          "text": []
        },
        {
          "output_type": "stream",
          "name": "stdout",
          "text": [
            "Epoch 28/200 | LR: 3.00e-05 | Train Loss: 1.4848 Acc: 0.4752 | Val Loss: 1.3873 Acc: 0.5105\n"
          ]
        },
        {
          "output_type": "stream",
          "name": "stderr",
          "text": []
        },
        {
          "output_type": "stream",
          "name": "stdout",
          "text": [
            "Epoch 29/200 | LR: 3.00e-05 | Train Loss: 1.4794 Acc: 0.4780 | Val Loss: 1.3939 Acc: 0.5031\n"
          ]
        },
        {
          "output_type": "stream",
          "name": "stderr",
          "text": []
        },
        {
          "output_type": "stream",
          "name": "stdout",
          "text": [
            "Epoch 30/200 | LR: 3.00e-05 | Train Loss: 1.4777 Acc: 0.4745 | Val Loss: 1.3879 Acc: 0.5048\n"
          ]
        },
        {
          "output_type": "stream",
          "name": "stderr",
          "text": []
        },
        {
          "output_type": "stream",
          "name": "stdout",
          "text": [
            "Epoch 31/200 | LR: 3.00e-05 | Train Loss: 1.4744 Acc: 0.4759 | Val Loss: 1.3875 Acc: 0.5056\n"
          ]
        },
        {
          "output_type": "stream",
          "name": "stderr",
          "text": []
        },
        {
          "output_type": "stream",
          "name": "stdout",
          "text": [
            "Epoch 32/200 | LR: 3.00e-06 | Train Loss: 1.4783 Acc: 0.4778 | Val Loss: 1.3828 Acc: 0.5080\n"
          ]
        },
        {
          "output_type": "stream",
          "name": "stderr",
          "text": []
        },
        {
          "output_type": "stream",
          "name": "stdout",
          "text": [
            "Epoch 33/200 | LR: 3.00e-06 | Train Loss: 1.4661 Acc: 0.4805 | Val Loss: 1.3831 Acc: 0.5076\n"
          ]
        },
        {
          "output_type": "stream",
          "name": "stderr",
          "text": []
        },
        {
          "output_type": "stream",
          "name": "stdout",
          "text": [
            "Epoch 34/200 | LR: 3.00e-06 | Train Loss: 1.4719 Acc: 0.4763 | Val Loss: 1.3872 Acc: 0.5052\n"
          ]
        },
        {
          "output_type": "stream",
          "name": "stderr",
          "text": []
        },
        {
          "output_type": "stream",
          "name": "stdout",
          "text": [
            "Epoch 35/200 | LR: 3.00e-06 | Train Loss: 1.4700 Acc: 0.4776 | Val Loss: 1.3763 Acc: 0.5149\n"
          ]
        },
        {
          "output_type": "stream",
          "name": "stderr",
          "text": []
        },
        {
          "output_type": "stream",
          "name": "stdout",
          "text": [
            "Epoch 36/200 | LR: 3.00e-06 | Train Loss: 1.4695 Acc: 0.4764 | Val Loss: 1.3828 Acc: 0.5055\n"
          ]
        },
        {
          "output_type": "stream",
          "name": "stderr",
          "text": []
        },
        {
          "output_type": "stream",
          "name": "stdout",
          "text": [
            "Epoch 37/200 | LR: 3.00e-06 | Train Loss: 1.4685 Acc: 0.4800 | Val Loss: 1.3837 Acc: 0.5044\n"
          ]
        },
        {
          "output_type": "stream",
          "name": "stderr",
          "text": []
        },
        {
          "output_type": "stream",
          "name": "stdout",
          "text": [
            "Epoch 38/200 | LR: 3.00e-06 | Train Loss: 1.4703 Acc: 0.4784 | Val Loss: 1.3786 Acc: 0.5103\n"
          ]
        },
        {
          "output_type": "stream",
          "name": "stderr",
          "text": []
        },
        {
          "output_type": "stream",
          "name": "stdout",
          "text": [
            "Epoch 39/200 | LR: 3.00e-07 | Train Loss: 1.4673 Acc: 0.4804 | Val Loss: 1.3787 Acc: 0.5073\n"
          ]
        },
        {
          "output_type": "stream",
          "name": "stderr",
          "text": []
        },
        {
          "output_type": "stream",
          "name": "stdout",
          "text": [
            "Epoch 40/200 | LR: 3.00e-07 | Train Loss: 1.4727 Acc: 0.4774 | Val Loss: 1.3785 Acc: 0.5104\n"
          ]
        },
        {
          "output_type": "stream",
          "name": "stderr",
          "text": []
        },
        {
          "output_type": "stream",
          "name": "stdout",
          "text": [
            "Epoch 41/200 | LR: 3.00e-07 | Train Loss: 1.4707 Acc: 0.4786 | Val Loss: 1.3777 Acc: 0.5117\n"
          ]
        },
        {
          "output_type": "stream",
          "name": "stderr",
          "text": []
        },
        {
          "output_type": "stream",
          "name": "stdout",
          "text": [
            "Epoch 42/200 | LR: 3.00e-08 | Train Loss: 1.4693 Acc: 0.4764 | Val Loss: 1.3814 Acc: 0.5113\n"
          ]
        },
        {
          "output_type": "stream",
          "name": "stderr",
          "text": []
        },
        {
          "output_type": "stream",
          "name": "stdout",
          "text": [
            "Epoch 43/200 | LR: 3.00e-08 | Train Loss: 1.4675 Acc: 0.4780 | Val Loss: 1.3824 Acc: 0.5096\n"
          ]
        },
        {
          "output_type": "stream",
          "name": "stderr",
          "text": []
        },
        {
          "output_type": "stream",
          "name": "stdout",
          "text": [
            "Epoch 44/200 | LR: 3.00e-08 | Train Loss: 1.4663 Acc: 0.4817 | Val Loss: 1.3822 Acc: 0.5080\n"
          ]
        },
        {
          "output_type": "stream",
          "name": "stderr",
          "text": []
        },
        {
          "output_type": "stream",
          "name": "stdout",
          "text": [
            "Epoch 45/200 | LR: 3.00e-09 | Train Loss: 1.4680 Acc: 0.4770 | Val Loss: 1.3836 Acc: 0.5107\n"
          ]
        },
        {
          "output_type": "stream",
          "name": "stderr",
          "text": []
        },
        {
          "output_type": "stream",
          "name": "stdout",
          "text": [
            "Epoch 46/200 | LR: 3.00e-09 | Train Loss: 1.4669 Acc: 0.4816 | Val Loss: 1.3818 Acc: 0.5117\n"
          ]
        },
        {
          "output_type": "stream",
          "name": "stderr",
          "text": []
        },
        {
          "output_type": "stream",
          "name": "stdout",
          "text": [
            "Epoch 47/200 | LR: 3.00e-09 | Train Loss: 1.4716 Acc: 0.4758 | Val Loss: 1.3821 Acc: 0.5097\n"
          ]
        },
        {
          "output_type": "stream",
          "name": "stderr",
          "text": []
        },
        {
          "output_type": "stream",
          "name": "stdout",
          "text": [
            "Epoch 48/200 | LR: 3.00e-09 | Train Loss: 1.4713 Acc: 0.4754 | Val Loss: 1.3831 Acc: 0.5072\n"
          ]
        },
        {
          "output_type": "stream",
          "name": "stderr",
          "text": []
        },
        {
          "output_type": "stream",
          "name": "stdout",
          "text": [
            "Epoch 49/200 | LR: 3.00e-09 | Train Loss: 1.4694 Acc: 0.4780 | Val Loss: 1.3841 Acc: 0.5041\n"
          ]
        },
        {
          "output_type": "stream",
          "name": "stderr",
          "text": []
        },
        {
          "output_type": "stream",
          "name": "stdout",
          "text": [
            "Epoch 50/200 | LR: 3.00e-09 | Train Loss: 1.4673 Acc: 0.4764 | Val Loss: 1.3756 Acc: 0.5091\n"
          ]
        },
        {
          "output_type": "stream",
          "name": "stderr",
          "text": []
        },
        {
          "output_type": "stream",
          "name": "stdout",
          "text": [
            "Epoch 51/200 | LR: 3.00e-09 | Train Loss: 1.4681 Acc: 0.4764 | Val Loss: 1.3773 Acc: 0.5072\n"
          ]
        },
        {
          "output_type": "stream",
          "name": "stderr",
          "text": []
        },
        {
          "output_type": "stream",
          "name": "stdout",
          "text": [
            "Epoch 52/200 | LR: 3.00e-09 | Train Loss: 1.4673 Acc: 0.4784 | Val Loss: 1.3776 Acc: 0.5096\n"
          ]
        },
        {
          "output_type": "stream",
          "name": "stderr",
          "text": []
        },
        {
          "output_type": "stream",
          "name": "stdout",
          "text": [
            "Epoch 53/200 | LR: 3.00e-09 | Train Loss: 1.4673 Acc: 0.4781 | Val Loss: 1.3802 Acc: 0.5101\n"
          ]
        },
        {
          "output_type": "stream",
          "name": "stderr",
          "text": []
        },
        {
          "output_type": "stream",
          "name": "stdout",
          "text": [
            "Epoch 54/200 | LR: 3.00e-09 | Train Loss: 1.4636 Acc: 0.4793 | Val Loss: 1.3842 Acc: 0.5079\n"
          ]
        },
        {
          "output_type": "stream",
          "name": "stderr",
          "text": []
        },
        {
          "output_type": "stream",
          "name": "stdout",
          "text": [
            "Epoch 55/200 | LR: 3.00e-09 | Train Loss: 1.4668 Acc: 0.4786 | Val Loss: 1.3758 Acc: 0.5160\n"
          ]
        },
        {
          "output_type": "stream",
          "name": "stderr",
          "text": []
        },
        {
          "output_type": "stream",
          "name": "stdout",
          "text": [
            "Epoch 56/200 | LR: 3.00e-09 | Train Loss: 1.4680 Acc: 0.4804 | Val Loss: 1.3802 Acc: 0.5099\n"
          ]
        },
        {
          "output_type": "stream",
          "name": "stderr",
          "text": []
        },
        {
          "output_type": "stream",
          "name": "stdout",
          "text": [
            "Epoch 57/200 | LR: 3.00e-09 | Train Loss: 1.4670 Acc: 0.4801 | Val Loss: 1.3806 Acc: 0.5101\n"
          ]
        },
        {
          "output_type": "stream",
          "name": "stderr",
          "text": []
        },
        {
          "output_type": "stream",
          "name": "stdout",
          "text": [
            "Epoch 58/200 | LR: 3.00e-09 | Train Loss: 1.4693 Acc: 0.4772 | Val Loss: 1.3756 Acc: 0.5117\n"
          ]
        },
        {
          "output_type": "stream",
          "name": "stderr",
          "text": []
        },
        {
          "output_type": "stream",
          "name": "stdout",
          "text": [
            "Epoch 59/200 | LR: 3.00e-09 | Train Loss: 1.4701 Acc: 0.4775 | Val Loss: 1.3840 Acc: 0.5048\n"
          ]
        },
        {
          "output_type": "stream",
          "name": "stderr",
          "text": []
        },
        {
          "output_type": "stream",
          "name": "stdout",
          "text": [
            "Epoch 60/200 | LR: 3.00e-09 | Train Loss: 1.4701 Acc: 0.4774 | Val Loss: 1.3765 Acc: 0.5076\n"
          ]
        },
        {
          "output_type": "stream",
          "name": "stderr",
          "text": []
        },
        {
          "output_type": "stream",
          "name": "stdout",
          "text": [
            "Epoch 61/200 | LR: 3.00e-09 | Train Loss: 1.4660 Acc: 0.4800 | Val Loss: 1.3775 Acc: 0.5088\n"
          ]
        },
        {
          "output_type": "stream",
          "name": "stderr",
          "text": []
        },
        {
          "output_type": "stream",
          "name": "stdout",
          "text": [
            "Epoch 62/200 | LR: 3.00e-09 | Train Loss: 1.4673 Acc: 0.4799 | Val Loss: 1.3718 Acc: 0.5139\n"
          ]
        },
        {
          "output_type": "stream",
          "name": "stderr",
          "text": []
        },
        {
          "output_type": "stream",
          "name": "stdout",
          "text": [
            "Epoch 63/200 | LR: 3.00e-09 | Train Loss: 1.4679 Acc: 0.4769 | Val Loss: 1.3781 Acc: 0.5108\n"
          ]
        },
        {
          "output_type": "stream",
          "name": "stderr",
          "text": []
        },
        {
          "output_type": "stream",
          "name": "stdout",
          "text": [
            "Epoch 64/200 | LR: 3.00e-09 | Train Loss: 1.4661 Acc: 0.4801 | Val Loss: 1.3820 Acc: 0.5051\n"
          ]
        },
        {
          "output_type": "stream",
          "name": "stderr",
          "text": []
        },
        {
          "output_type": "stream",
          "name": "stdout",
          "text": [
            "Epoch 65/200 | LR: 3.00e-09 | Train Loss: 1.4696 Acc: 0.4796 | Val Loss: 1.3838 Acc: 0.5055\n"
          ]
        },
        {
          "output_type": "stream",
          "name": "stderr",
          "text": []
        },
        {
          "output_type": "stream",
          "name": "stdout",
          "text": [
            "Epoch 66/200 | LR: 3.00e-09 | Train Loss: 1.4664 Acc: 0.4792 | Val Loss: 1.3767 Acc: 0.5139\n"
          ]
        },
        {
          "output_type": "stream",
          "name": "stderr",
          "text": []
        },
        {
          "output_type": "stream",
          "name": "stdout",
          "text": [
            "Epoch 67/200 | LR: 3.00e-09 | Train Loss: 1.4658 Acc: 0.4791 | Val Loss: 1.3781 Acc: 0.5105\n"
          ]
        },
        {
          "output_type": "stream",
          "name": "stderr",
          "text": []
        },
        {
          "output_type": "stream",
          "name": "stdout",
          "text": [
            "Epoch 68/200 | LR: 3.00e-09 | Train Loss: 1.4700 Acc: 0.4784 | Val Loss: 1.3760 Acc: 0.5105\n"
          ]
        },
        {
          "output_type": "stream",
          "name": "stderr",
          "text": []
        },
        {
          "output_type": "stream",
          "name": "stdout",
          "text": [
            "Epoch 69/200 | LR: 3.00e-09 | Train Loss: 1.4674 Acc: 0.4764 | Val Loss: 1.3786 Acc: 0.5108\n"
          ]
        },
        {
          "output_type": "stream",
          "name": "stderr",
          "text": []
        },
        {
          "output_type": "stream",
          "name": "stdout",
          "text": [
            "Epoch 70/200 | LR: 3.00e-09 | Train Loss: 1.4653 Acc: 0.4792 | Val Loss: 1.3763 Acc: 0.5089\n"
          ]
        },
        {
          "output_type": "stream",
          "name": "stderr",
          "text": []
        },
        {
          "output_type": "stream",
          "name": "stdout",
          "text": [
            "Epoch 71/200 | LR: 3.00e-09 | Train Loss: 1.4696 Acc: 0.4770 | Val Loss: 1.3817 Acc: 0.5073\n"
          ]
        },
        {
          "output_type": "stream",
          "name": "stderr",
          "text": []
        },
        {
          "output_type": "stream",
          "name": "stdout",
          "text": [
            "Epoch 72/200 | LR: 3.00e-09 | Train Loss: 1.4673 Acc: 0.4782 | Val Loss: 1.3842 Acc: 0.5083\n"
          ]
        },
        {
          "output_type": "stream",
          "name": "stderr",
          "text": []
        },
        {
          "output_type": "stream",
          "name": "stdout",
          "text": [
            "Epoch 73/200 | LR: 3.00e-09 | Train Loss: 1.4657 Acc: 0.4798 | Val Loss: 1.3753 Acc: 0.5093\n"
          ]
        },
        {
          "output_type": "stream",
          "name": "stderr",
          "text": []
        },
        {
          "output_type": "stream",
          "name": "stdout",
          "text": [
            "Epoch 74/200 | LR: 3.00e-09 | Train Loss: 1.4689 Acc: 0.4803 | Val Loss: 1.3772 Acc: 0.5127\n"
          ]
        },
        {
          "output_type": "stream",
          "name": "stderr",
          "text": []
        },
        {
          "output_type": "stream",
          "name": "stdout",
          "text": [
            "Epoch 75/200 | LR: 3.00e-09 | Train Loss: 1.4693 Acc: 0.4784 | Val Loss: 1.3829 Acc: 0.5105\n"
          ]
        },
        {
          "output_type": "stream",
          "name": "stderr",
          "text": []
        },
        {
          "output_type": "stream",
          "name": "stdout",
          "text": [
            "Epoch 76/200 | LR: 3.00e-09 | Train Loss: 1.4651 Acc: 0.4836 | Val Loss: 1.3764 Acc: 0.5065\n"
          ]
        },
        {
          "output_type": "stream",
          "name": "stderr",
          "text": []
        },
        {
          "output_type": "stream",
          "name": "stdout",
          "text": [
            "Epoch 77/200 | LR: 3.00e-09 | Train Loss: 1.4680 Acc: 0.4770 | Val Loss: 1.3808 Acc: 0.5084\n",
            "Early stopping acionado!\n"
          ]
        },
        {
          "output_type": "stream",
          "name": "stderr",
          "text": [
            "                                                        "
          ]
        },
        {
          "output_type": "stream",
          "name": "stdout",
          "text": [
            "\n",
            "Resultados Finais - Loss: 1.3837 Acc: 0.5088\n"
          ]
        },
        {
          "output_type": "stream",
          "name": "stderr",
          "text": [
            "\r"
          ]
        }
      ]
    },
    {
      "cell_type": "markdown",
      "source": [
        "# Visualização dos Resultados"
      ],
      "metadata": {
        "id": "Epp5H8EUZCsh"
      }
    },
    {
      "cell_type": "code",
      "source": [
        "# Função para plotar comparação\n",
        "def plot_results(experiments, metric='loss'):\n",
        "    plt.figure(figsize=(12, 6))\n",
        "    for exp in experiments:\n",
        "        plt.plot(exp.history[f'train_{metric}'], label=f\"{exp.config['name']} - Train\")\n",
        "        plt.plot(exp.history[f'val_{metric}'], '--', label=f\"{exp.config['name']} - Val\")\n",
        "    plt.title(f'Comparação de Modelos - {metric.capitalize()}')\n",
        "    plt.xlabel('Época')\n",
        "    plt.ylabel(metric.capitalize())\n",
        "    plt.legend()\n",
        "    plt.grid(True)\n",
        "    plt.show()"
      ],
      "metadata": {
        "id": "3MRF_46BZHVw"
      },
      "execution_count": 20,
      "outputs": []
    },
    {
      "cell_type": "code",
      "source": [
        "def plot_learning_rates(experiments):\n",
        "    plt.figure(figsize=(12, 6))\n",
        "    for exp in experiments:\n",
        "        plt.plot(exp.history['lr'], label=exp.config['name'])\n",
        "    plt.title('Evolução do Learning Rate')\n",
        "    plt.xlabel('Época')\n",
        "    plt.ylabel('Learning Rate (escala log)')\n",
        "    plt.yscale('log')\n",
        "    plt.legend()\n",
        "    plt.grid(True)\n",
        "    plt.show()"
      ],
      "metadata": {
        "id": "QqbAMBTnamvl"
      },
      "execution_count": 21,
      "outputs": []
    },
    {
      "cell_type": "code",
      "source": [
        "# Tabela comparativa\n",
        "results = []\n",
        "for exp in experiments:\n",
        "    res = {\n",
        "        \"Modelo\": exp.config[\"name\"],\n",
        "        \"Arquitetura\": str(exp.config[\"layer_sizes\"]),\n",
        "        \"Optimizer\": exp.config[\"optimizer\"].__name__,\n",
        "        \"LR Inicial\": exp.config[\"learning_rate\"],\n",
        "        \"LR Final\": exp.history[\"lr\"][-1],\n",
        "        \"Max Train Acc\": f\"{max(exp.history['train_acc'])*100:.2f}%\",\n",
        "        \"Max Val Acc\": f\"{max(exp.history['val_acc'])*100:.2f}%\",\n",
        "        \"Test Acc\": f\"{exp.history.get('test_acc', 0)*100:.2f}%\",\n",
        "        \"Épocas\": len(exp.history['train_loss'])\n",
        "    }\n",
        "    results.append(res)\n",
        "\n",
        "results_df = pd.DataFrame(results)\n",
        "print(\"\\nResumo Comparativo dos Modelos:\")\n",
        "display(results_df.style.background_gradient(cmap='Blues'))"
      ],
      "metadata": {
        "id": "IlV8aQmBZL7w",
        "colab": {
          "base_uri": "https://localhost:8080/",
          "height": 178
        },
        "outputId": "9ca978f3-da35-4556-f9c8-5024ea00f389"
      },
      "execution_count": 22,
      "outputs": [
        {
          "output_type": "stream",
          "name": "stdout",
          "text": [
            "\n",
            "Resumo Comparativo dos Modelos:\n"
          ]
        },
        {
          "output_type": "display_data",
          "data": {
            "text/plain": [
              "<pandas.io.formats.style.Styler at 0x7efaa9afb350>"
            ],
            "text/html": [
              "<style type=\"text/css\">\n",
              "#T_a4791_row0_col3, #T_a4791_row1_col4, #T_a4791_row1_col8, #T_a4791_row2_col8 {\n",
              "  background-color: #08306b;\n",
              "  color: #f1f1f1;\n",
              "}\n",
              "#T_a4791_row0_col4 {\n",
              "  background-color: #dbe9f6;\n",
              "  color: #000000;\n",
              "}\n",
              "#T_a4791_row0_col8, #T_a4791_row2_col3, #T_a4791_row2_col4 {\n",
              "  background-color: #f7fbff;\n",
              "  color: #000000;\n",
              "}\n",
              "#T_a4791_row1_col3 {\n",
              "  background-color: #d2e3f3;\n",
              "  color: #000000;\n",
              "}\n",
              "</style>\n",
              "<table id=\"T_a4791\" class=\"dataframe\">\n",
              "  <thead>\n",
              "    <tr>\n",
              "      <th class=\"blank level0\" >&nbsp;</th>\n",
              "      <th id=\"T_a4791_level0_col0\" class=\"col_heading level0 col0\" >Modelo</th>\n",
              "      <th id=\"T_a4791_level0_col1\" class=\"col_heading level0 col1\" >Arquitetura</th>\n",
              "      <th id=\"T_a4791_level0_col2\" class=\"col_heading level0 col2\" >Optimizer</th>\n",
              "      <th id=\"T_a4791_level0_col3\" class=\"col_heading level0 col3\" >LR Inicial</th>\n",
              "      <th id=\"T_a4791_level0_col4\" class=\"col_heading level0 col4\" >LR Final</th>\n",
              "      <th id=\"T_a4791_level0_col5\" class=\"col_heading level0 col5\" >Max Train Acc</th>\n",
              "      <th id=\"T_a4791_level0_col6\" class=\"col_heading level0 col6\" >Max Val Acc</th>\n",
              "      <th id=\"T_a4791_level0_col7\" class=\"col_heading level0 col7\" >Test Acc</th>\n",
              "      <th id=\"T_a4791_level0_col8\" class=\"col_heading level0 col8\" >Épocas</th>\n",
              "    </tr>\n",
              "  </thead>\n",
              "  <tbody>\n",
              "    <tr>\n",
              "      <th id=\"T_a4791_level0_row0\" class=\"row_heading level0 row0\" >0</th>\n",
              "      <td id=\"T_a4791_row0_col0\" class=\"data row0 col0\" >Baseline</td>\n",
              "      <td id=\"T_a4791_row0_col1\" class=\"data row0 col1\" >[256, 512, 256]</td>\n",
              "      <td id=\"T_a4791_row0_col2\" class=\"data row0 col2\" >AdamW</td>\n",
              "      <td id=\"T_a4791_row0_col3\" class=\"data row0 col3\" >0.004000</td>\n",
              "      <td id=\"T_a4791_row0_col4\" class=\"data row0 col4\" >0.000000</td>\n",
              "      <td id=\"T_a4791_row0_col5\" class=\"data row0 col5\" >56.91%</td>\n",
              "      <td id=\"T_a4791_row0_col6\" class=\"data row0 col6\" >57.00%</td>\n",
              "      <td id=\"T_a4791_row0_col7\" class=\"data row0 col7\" >56.30%</td>\n",
              "      <td id=\"T_a4791_row0_col8\" class=\"data row0 col8\" >46</td>\n",
              "    </tr>\n",
              "    <tr>\n",
              "      <th id=\"T_a4791_level0_row1\" class=\"row_heading level0 row1\" >1</th>\n",
              "      <td id=\"T_a4791_row1_col0\" class=\"data row1 col0\" >SmallNet</td>\n",
              "      <td id=\"T_a4791_row1_col1\" class=\"data row1 col1\" >[128, 256, 128]</td>\n",
              "      <td id=\"T_a4791_row1_col2\" class=\"data row1 col2\" >Adam</td>\n",
              "      <td id=\"T_a4791_row1_col3\" class=\"data row1 col3\" >0.001000</td>\n",
              "      <td id=\"T_a4791_row1_col4\" class=\"data row1 col4\" >0.000000</td>\n",
              "      <td id=\"T_a4791_row1_col5\" class=\"data row1 col5\" >56.77%</td>\n",
              "      <td id=\"T_a4791_row1_col6\" class=\"data row1 col6\" >57.55%</td>\n",
              "      <td id=\"T_a4791_row1_col7\" class=\"data row1 col7\" >56.16%</td>\n",
              "      <td id=\"T_a4791_row1_col8\" class=\"data row1 col8\" >77</td>\n",
              "    </tr>\n",
              "    <tr>\n",
              "      <th id=\"T_a4791_level0_row2\" class=\"row_heading level0 row2\" >2</th>\n",
              "      <td id=\"T_a4791_row2_col0\" class=\"data row2 col0\" >DeepNet</td>\n",
              "      <td id=\"T_a4791_row2_col1\" class=\"data row2 col1\" >[256, 512, 512, 256]</td>\n",
              "      <td id=\"T_a4791_row2_col2\" class=\"data row2 col2\" >RMSprop</td>\n",
              "      <td id=\"T_a4791_row2_col3\" class=\"data row2 col3\" >0.000300</td>\n",
              "      <td id=\"T_a4791_row2_col4\" class=\"data row2 col4\" >0.000000</td>\n",
              "      <td id=\"T_a4791_row2_col5\" class=\"data row2 col5\" >48.36%</td>\n",
              "      <td id=\"T_a4791_row2_col6\" class=\"data row2 col6\" >51.60%</td>\n",
              "      <td id=\"T_a4791_row2_col7\" class=\"data row2 col7\" >50.88%</td>\n",
              "      <td id=\"T_a4791_row2_col8\" class=\"data row2 col8\" >77</td>\n",
              "    </tr>\n",
              "  </tbody>\n",
              "</table>\n"
            ]
          },
          "metadata": {}
        }
      ]
    },
    {
      "cell_type": "markdown",
      "source": [
        "# Salvar Resultados"
      ],
      "metadata": {
        "id": "gVPBud0CZTnG"
      }
    },
    {
      "cell_type": "code",
      "source": [
        "# Criar diretório para salvar resultados\n",
        "!mkdir -p results"
      ],
      "metadata": {
        "id": "DovGs4XCZWz7"
      },
      "execution_count": 23,
      "outputs": []
    },
    {
      "cell_type": "code",
      "source": [
        "# Salvar resultados em CSV\n",
        "results_df.to_csv(\"results/model_comparison.csv\", index=False)"
      ],
      "metadata": {
        "id": "Ov36Z2ssZZmo"
      },
      "execution_count": 24,
      "outputs": []
    },
    {
      "cell_type": "code",
      "source": [
        "# Salvar modelos e históricos\n",
        "for exp in experiments:\n",
        "    model_name = exp.config[\"name\"].replace(\" \", \"_\").lower()\n",
        "    # Salvar modelo\n",
        "    torch.save(exp.model.state_dict(), f\"results/{model_name}_model.pth\")\n",
        "    # Salvar histórico\n",
        "    with open(f\"results/{model_name}_history.json\", 'w') as f:\n",
        "        json.dump(exp.history, f)\n",
        "\n",
        "print(\"Resultados salvos na pasta 'results'\")"
      ],
      "metadata": {
        "id": "FG7tJr92ZbNE",
        "colab": {
          "base_uri": "https://localhost:8080/"
        },
        "outputId": "2c559bab-492c-4933-bbcc-62387a611b8d"
      },
      "execution_count": 25,
      "outputs": [
        {
          "output_type": "stream",
          "name": "stdout",
          "text": [
            "Resultados salvos na pasta 'results'\n"
          ]
        }
      ]
    }
  ],
  "metadata": {
    "accelerator": "GPU",
    "colab": {
      "gpuType": "T4",
      "provenance": [],
      "collapsed_sections": [
        "z7zlL6tvv3dw",
        "LgrsEyEpvzJw",
        "szc1tJDrwpkt",
        "1KgFJgzcxmGZ",
        "5f2B0OtvXm07",
        "3wZT0fjyYOTX",
        "DDtLkwBKYcnB",
        "Ke7qFIfmYu5_"
      ],
      "include_colab_link": true
    },
    "kernelspec": {
      "display_name": "Python 3",
      "name": "python3"
    },
    "language_info": {
      "name": "python"
    }
  },
  "nbformat": 4,
  "nbformat_minor": 0
}